{
 "cells": [
  {
   "cell_type": "code",
   "execution_count": 12,
   "metadata": {},
   "outputs": [],
   "source": [
    "import numpy as np\n",
    "import pandas as pd\n",
    "\n",
    "import matplotlib.pyplot as plt\n",
    "import seaborn as sns\n",
    "\n",
    "import pingouin as pg"
   ]
  },
  {
   "cell_type": "code",
   "execution_count": null,
   "metadata": {},
   "outputs": [],
   "source": [
    "#   File Beer Descriptors Simplified.xlsx\n",
    "#   --------------------------------------\n",
    "\n",
    "# This file contains list of words/descriptors that are used to calculate the values contained in the tasting profile feature columns\n",
    "#    ['Astringency', 'Body', 'Alcohol', 'Bitter', 'Sweet', 'Sour', 'Salty', 'Fruits', 'Hoppy', 'Spices', 'Malty']\n",
    "\n",
    "    # 3 Tabs  :   Mouthfeel, Taste, Flavor And Aroma\n",
    "    #   For each tab\n",
    "        #   Analyze rawdata structure\n",
    "        #   Value counts categorial columns\n",
    "        #   Check if NULL Values\n",
    "\n",
    "\n",
    "#       ?? nor clear how impact helps and difference between 1 and NULL>> clarify\n"
   ]
  },
  {
   "cell_type": "code",
   "execution_count": 3,
   "metadata": {},
   "outputs": [],
   "source": [
    "# Fetch raw data\n",
    "\n",
    "rawdata_1 = pd.read_excel(r'C:\\Users\\t.vincotte\\Documents\\CODE\\TFE\\EoF - Work\\Beer_Profile\\Source_Files\\Beer Descriptors Simplified.xlsx',sheet_name='Mouthfeel') \n",
    "rawdata_2 = pd.read_excel(r'C:\\Users\\t.vincotte\\Documents\\CODE\\TFE\\EoF - Work\\Beer_Profile\\Source_Files\\Beer Descriptors Simplified.xlsx',sheet_name='Taste') \n",
    "rawdata_3 = pd.read_excel(r'C:\\Users\\t.vincotte\\Documents\\CODE\\TFE\\EoF - Work\\Beer_Profile\\Source_Files\\Beer Descriptors Simplified.xlsx',sheet_name='Flavor And Aroma') \n",
    "\n"
   ]
  },
  {
   "cell_type": "code",
   "execution_count": 4,
   "metadata": {},
   "outputs": [],
   "source": [
    "#   Define datasets with needed columns\n",
    "#   ------------------------------------------\n",
    "    # At first glance, all columns - to be seen with datasets we would merge \n",
    "\n",
    "Mouthfeel = rawdata_1\n",
    "Taste = rawdata_2\n",
    "Flavor_Aroma = rawdata_3\n"
   ]
  },
  {
   "cell_type": "code",
   "execution_count": 4,
   "metadata": {},
   "outputs": [
    {
     "name": "stdout",
     "output_type": "stream",
     "text": [
      "<class 'pandas.core.frame.DataFrame'>\n",
      "RangeIndex: 97 entries, 0 to 96\n",
      "Data columns (total 6 columns):\n",
      " #   Column      Non-Null Count  Dtype  \n",
      "---  ------      --------------  -----  \n",
      " 0   Astringent  89 non-null     object \n",
      " 1   Impact      89 non-null     float64\n",
      " 2   Body        97 non-null     object \n",
      " 3   Impact.1    97 non-null     int64  \n",
      " 4   Alcoholic   64 non-null     object \n",
      " 5   Impact.2    64 non-null     float64\n",
      "dtypes: float64(2), int64(1), object(3)\n",
      "memory usage: 4.7+ KB\n",
      "<class 'pandas.core.frame.DataFrame'>\n",
      "RangeIndex: 128 entries, 0 to 127\n",
      "Data columns (total 8 columns):\n",
      " #   Column    Non-Null Count  Dtype  \n",
      "---  ------    --------------  -----  \n",
      " 0   Bitter    86 non-null     object \n",
      " 1   Impact    86 non-null     float64\n",
      " 2   Sweet     128 non-null    object \n",
      " 3   Impact.1  128 non-null    int64  \n",
      " 4   Sour      111 non-null    object \n",
      " 5   Impact.2  111 non-null    float64\n",
      " 6   Salty     13 non-null     object \n",
      " 7   Impact.3  13 non-null     float64\n",
      "dtypes: float64(3), int64(1), object(4)\n",
      "memory usage: 8.1+ KB\n",
      "<class 'pandas.core.frame.DataFrame'>\n",
      "RangeIndex: 209 entries, 0 to 208\n",
      "Data columns (total 8 columns):\n",
      " #   Column    Non-Null Count  Dtype  \n",
      "---  ------    --------------  -----  \n",
      " 0   Fruity    174 non-null    object \n",
      " 1   Impact    174 non-null    float64\n",
      " 2   Hoppy     148 non-null    object \n",
      " 3   Impact.1  148 non-null    float64\n",
      " 4   Spices    99 non-null     object \n",
      " 5   Impact.2  99 non-null     float64\n",
      " 6   Malty     209 non-null    object \n",
      " 7   Impact.3  209 non-null    int64  \n",
      "dtypes: float64(3), int64(1), object(4)\n",
      "memory usage: 13.2+ KB\n"
     ]
    }
   ],
   "source": [
    "rawdata_1.info()\n",
    "rawdata_2.info()\n",
    "rawdata_3.info()"
   ]
  },
  {
   "cell_type": "code",
   "execution_count": 9,
   "metadata": {},
   "outputs": [
    {
     "name": "stdout",
     "output_type": "stream",
     "text": [
      "Astringent\n",
      "--------------------\n"
     ]
    },
    {
     "data": {
      "text/plain": [
       "array(['acetic', 'acid', 'acidic', 'acidified', 'acidifying', 'acide',\n",
       "       'acidy', 'acidity', 'acids', 'aciduated', 'acidulated', 'acrid',\n",
       "       'agave', 'alkaline', 'astringency', 'astringence', 'astringencies',\n",
       "       'stringent', 'astrigent', 'astringently', 'astringent', 'citra',\n",
       "       'cleaning', 'crispiness', 'crispier', 'crisped', 'crips', 'crisps',\n",
       "       'cleanness', 'cleanest', 'cleanliness', 'cleanses', 'cleansed',\n",
       "       'cleanser', 'cleaned', 'cleans', 'clean', 'cleaner', 'cleaness',\n",
       "       'cleanly', 'cleanse', 'cleansing', 'crisp', 'crisper', 'crisply',\n",
       "       'crispness', 'crispy', 'drys', 'dry', 'dryer', 'drying', 'dryness',\n",
       "       'fresh', 'fresher', 'freshest', 'freshly', 'freshness', 'phenals',\n",
       "       'phenol', 'phenolic', 'phenols', 'pith', 'pithy', 'pucker',\n",
       "       'puckeringly', 'puckery', 'puckers', 'puckering', 'puckered',\n",
       "       'quench', 'quenchener', 'quencher', 'quenches', 'quenching',\n",
       "       'spritz', 'spritzy', 'twangy', 'twang', 'tang', 'tanginess',\n",
       "       'tangyness', 'tangy', 'tannic', 'tannin', 'tannins', 'tanins',\n",
       "       'tanin', 'mosiac', 'tettnanger', nan], dtype=object)"
      ]
     },
     "metadata": {},
     "output_type": "display_data"
    },
    {
     "name": "stdout",
     "output_type": "stream",
     "text": [
      "Impact\n",
      "--------------------\n"
     ]
    },
    {
     "data": {
      "text/plain": [
       "array([ 1., nan])"
      ]
     },
     "metadata": {},
     "output_type": "display_data"
    },
    {
     "name": "stdout",
     "output_type": "stream",
     "text": [
      "Body\n",
      "--------------------\n"
     ]
    },
    {
     "data": {
      "text/plain": [
       "array(['acacia', 'acasia', 'amaranth', 'amargor', 'big', 'bodied',\n",
       "       'bodiedness', 'body', 'butter', 'buttery', 'cappuccino', 'cask',\n",
       "       'casks', 'chewable', 'chewed', 'chewiness', 'chewy', 'chocoalte',\n",
       "       'chocolate', 'chocolately', 'chocolates', 'chocolatey',\n",
       "       'chocolatiers', 'chocolaty', 'cocoa', 'cream', 'creamier',\n",
       "       'creaminess', 'creamy', 'creams', 'custard', 'creamyness', 'crema',\n",
       "       'creme', 'custardy', 'dairy', 'flan', 'flat', 'flats', 'flattened',\n",
       "       'full', 'fullbodied', 'fuller', 'fullness', 'fully', 'fulsome',\n",
       "       'milk', 'milkshake', 'milky', 'mouthcoating', 'oil', 'oils',\n",
       "       'oilslick', 'oily', 'silk', 'silkier', 'silkily', 'silkiness',\n",
       "       'silky', 'smooth', 'smoothed', 'smoother', 'smoothest', 'smoothe',\n",
       "       'smoooth', 'smoothie', 'smoothing', 'smoothly', 'smoothness',\n",
       "       'smooths', 'soft', 'softened', 'softens', 'softer', 'softly',\n",
       "       'softness', 'thick', 'thicken', 'thickness', 'thin', 'velvet',\n",
       "       'velvety', 'visciole', 'viscosity', 'viscous', 'viscuous',\n",
       "       'viscus', 'vicious', 'viscocity', 'viscose', 'butters', 'buttered',\n",
       "       'cappucino', 'chewey', 'chew', 'chews', 'butteriness'],\n",
       "      dtype=object)"
      ]
     },
     "metadata": {},
     "output_type": "display_data"
    },
    {
     "name": "stdout",
     "output_type": "stream",
     "text": [
      "Impact.1\n",
      "--------------------\n"
     ]
    },
    {
     "data": {
      "text/plain": [
       "array([1])"
      ]
     },
     "metadata": {},
     "output_type": "display_data"
    },
    {
     "name": "stdout",
     "output_type": "stream",
     "text": [
      "Alcoholic\n",
      "--------------------\n"
     ]
    },
    {
     "data": {
      "text/plain": [
       "array(['absinthe', 'agave', 'alcohol', 'alcoholic', 'alcoholized',\n",
       "       'alcohols', 'bite', 'bites', 'booze', 'booziness', 'boozy',\n",
       "       'bourbon', 'bourbons', 'brandied', 'brandy', 'daniel', 'daniels',\n",
       "       'ester', 'esters', 'estery', 'ethanol', 'ferment', 'fermentation',\n",
       "       'fermentations', 'fermented', 'ferments', 'gas', 'gin', 'heat',\n",
       "       'quad', 'quadrupel', 'quadruple', 'quadrupled', 'quads', 'rum',\n",
       "       'scotch', 'strong', 'stronger', 'strongest', 'vodka', 'warm',\n",
       "       'warmed', 'warmer', 'warmers', 'warming', 'warms', 'warmth',\n",
       "       'whiskey', 'whiskeys', 'whiskies', 'whisky', 'alchohol', 'alcool',\n",
       "       'alchol', 'acohol', 'alochol', 'alcohal', 'boozey', 'bourbony',\n",
       "       'burbon', 'boubon', 'esther', 'esthery', 'esthers', nan],\n",
       "      dtype=object)"
      ]
     },
     "metadata": {},
     "output_type": "display_data"
    },
    {
     "name": "stdout",
     "output_type": "stream",
     "text": [
      "Impact.2\n",
      "--------------------\n"
     ]
    },
    {
     "data": {
      "text/plain": [
       "array([ 1., nan])"
      ]
     },
     "metadata": {},
     "output_type": "display_data"
    }
   ],
   "source": [
    "#   Display Mouthfeel cell contents\n",
    "#   -----------------------------------\n",
    "\n",
    "for col in rawdata_1:\n",
    "    print(col)\n",
    "    print('--------------------')\n",
    "    content_mouthfeel = rawdata_1[col].unique()\n",
    "    display(content_mouthfeel)"
   ]
  },
  {
   "cell_type": "code",
   "execution_count": 10,
   "metadata": {},
   "outputs": [
    {
     "name": "stdout",
     "output_type": "stream",
     "text": [
      "Bitter\n",
      "--------------------\n"
     ]
    },
    {
     "data": {
      "text/plain": [
       "array(['ahtanum', 'amarillo', 'anjilanaka', 'apollo', 'ashtray',\n",
       "       'askinosie', 'azacca', 'bitter', 'bittered', 'bitterhop',\n",
       "       'bitterer', 'bittering', 'bitterly', 'bitterness', 'bitters',\n",
       "       'bittersweet', 'bittnerness', 'brulee', 'bruleed', 'burn',\n",
       "       'burned', 'burning', 'burnished', 'burns', 'burnt', 'cacao',\n",
       "       'cacoa', 'cappuccino', 'char', 'charred', 'chinook', 'citra',\n",
       "       'cypress', 'czech', 'cocoa', 'coffee', 'coffees', 'fuggle',\n",
       "       'fuggles', 'golding', 'goldings', 'java', 'hallaertau',\n",
       "       'hallartau', 'hallertau', 'hallertauer', 'hallertaur',\n",
       "       'hallerteau', 'hop', 'hopped', 'hoppier', 'hoppiest', 'hoppin',\n",
       "       'hoppiness', 'hopping', 'hoppings', 'hoppy', 'hops', 'mocha',\n",
       "       'molasses', 'mollasses', 'mosaic', 'mosaics', 'palisade', 'peel',\n",
       "       'peels', 'pith', 'pithy', 'resin', 'resinous', 'resins', 'resiny',\n",
       "       'rind', 'saaz', 'tettanang', 'tettnang', 'willamette',\n",
       "       'willamettehops', 'williamette', 'zest', 'zesty', 'biterness',\n",
       "       'bitterniss', 'coffe', 'cofee', 'hoppyness', nan], dtype=object)"
      ]
     },
     "metadata": {},
     "output_type": "display_data"
    },
    {
     "name": "stdout",
     "output_type": "stream",
     "text": [
      "Impact\n",
      "--------------------\n"
     ]
    },
    {
     "data": {
      "text/plain": [
       "array([ 1., nan])"
      ]
     },
     "metadata": {},
     "output_type": "display_data"
    },
    {
     "name": "stdout",
     "output_type": "stream",
     "text": [
      "Sweet\n",
      "--------------------\n"
     ]
    },
    {
     "data": {
      "text/plain": [
       "array(['acacia', 'acasia', 'apple', 'apples', 'apricot', 'apricots',\n",
       "       'berries', 'berry', 'blabaer', 'blackberries', 'blackberry',\n",
       "       'blackcurrant', 'blue', 'blueberries', 'blueberry', 'bragget',\n",
       "       'braggot', 'brownie', 'brownies', 'cake', 'cakes', 'candi',\n",
       "       'candied', 'candies', 'candy', 'cane', 'cantaloupe', 'caramel',\n",
       "       'caramelised', 'caramelized', 'caramelly', 'caramelo', 'caramely',\n",
       "       'carmel', 'carmelization', 'carmelized', 'carmelly', 'carrot',\n",
       "       'carrots', 'chocoalte', 'chocolate', 'chocolately', 'chocolates',\n",
       "       'chocolatey', 'chocolatiers', 'chocolaty', 'churro', 'cranberries',\n",
       "       'cranberry', 'date', 'dates', 'dessert', 'desserts', 'doughnut',\n",
       "       'doughnuts', 'fig', 'figgy', 'figs', 'fruit', 'fruitcake',\n",
       "       'fruitcakes', 'fruited', 'fruitier', 'fruitiness', 'fruiting',\n",
       "       'fruitness', 'fruits', 'fruity', 'goose', 'gooseberries',\n",
       "       'gooseberry', 'graham', 'grape', 'grapes', 'honey', 'juice',\n",
       "       'juiced', 'juices', 'juiciness', 'juicy', 'maple', 'melon',\n",
       "       'melons', 'nectar', 'nectarine', 'nectars', 'pineapple', 'raisin',\n",
       "       'raisins', 'raisiny', 'raspberries', 'raspberry', 'sugar',\n",
       "       'sugarcane', 'sugaring', 'sugars', 'sugary', 'sweet', 'sweeten',\n",
       "       'sweetened', 'sweetener', 'sweetening', 'sweeter', 'sweetest',\n",
       "       'sweetish', 'sweetly', 'sweetness', 'sweets', 'syrup', 'syrups',\n",
       "       'syrupy', 'tamarind', 'tamarindo', 'turbinado', 'cantelope',\n",
       "       'carmely', 'caramal', 'camel', 'caramels', 'caramell',\n",
       "       'caramelize', 'caramelish', 'caramalized', 'carmalized',\n",
       "       'desserty'], dtype=object)"
      ]
     },
     "metadata": {},
     "output_type": "display_data"
    },
    {
     "name": "stdout",
     "output_type": "stream",
     "text": [
      "Impact.1\n",
      "--------------------\n"
     ]
    },
    {
     "data": {
      "text/plain": [
       "array([1])"
      ]
     },
     "metadata": {},
     "output_type": "display_data"
    },
    {
     "name": "stdout",
     "output_type": "stream",
     "text": [
      "Sour\n",
      "--------------------\n"
     ]
    },
    {
     "data": {
      "text/plain": [
       "array(['acetic', 'acid', 'acidic', 'acidified', 'acidifying', 'acidity',\n",
       "       'acids', 'aciduated', 'acidulated', 'acrid', 'apple', 'apples',\n",
       "       'bergamot', 'bacteria', 'bacterias', 'brabantiae', 'brettanomyces',\n",
       "       'bruxellensis', 'cassis', 'cider', 'citra', 'citric', 'citron',\n",
       "       'citrus', 'citrusy', 'clementine', 'culture', 'cultured',\n",
       "       'delbrueckii', 'ester', 'esters', 'estery', 'ferment',\n",
       "       'fermentation', 'fermentations', 'fermented', 'ferments', 'fruit',\n",
       "       'fruitcake', 'fruitcakes', 'fruited', 'fruitier', 'fruitiness',\n",
       "       'fruiting', 'fruitness', 'fruits', 'fruity', 'funk', 'funkiness',\n",
       "       'funky', 'grapefruit', 'grapefruits', 'kumquat', 'kumquats',\n",
       "       'lactic', 'lactics', 'lacto', 'lactobacilius', 'lactobacillius',\n",
       "       'lactobacillus', 'lactose', 'lemon', 'lemonade', 'lemondrop',\n",
       "       'lemongrass', 'lemons', 'lemony', 'lime', 'limes', 'mandarin',\n",
       "       'mandarina', 'orange', 'oranges', 'orangey', 'pickled', 'pickles',\n",
       "       'pungency', 'pungent', 'rhubarb', 'sauerkraut', 'sauermalt',\n",
       "       'sour', 'sourdough', 'soured', 'souring', 'sourness', 'sours',\n",
       "       'tang', 'tanginess', 'tangy', 'tart', 'tartness', 'vinegars',\n",
       "       'wild', 'wildly', 'wilds', 'yuzu', 'funked', 'funkyness',\n",
       "       'skunkiness', 'funkiest', 'pickle', 'pungently', 'soury', 'sourer',\n",
       "       'sourest', 'tarty', 'tarts', 'tartly', 'vinegar', 'vinegary', nan],\n",
       "      dtype=object)"
      ]
     },
     "metadata": {},
     "output_type": "display_data"
    },
    {
     "name": "stdout",
     "output_type": "stream",
     "text": [
      "Impact.2\n",
      "--------------------\n"
     ]
    },
    {
     "data": {
      "text/plain": [
       "array([ 1., nan])"
      ]
     },
     "metadata": {},
     "output_type": "display_data"
    },
    {
     "name": "stdout",
     "output_type": "stream",
     "text": [
      "Salty\n",
      "--------------------\n"
     ]
    },
    {
     "data": {
      "text/plain": [
       "array(['caviar', 'cracker', 'crackers', 'crackery', 'salt', 'salted',\n",
       "       'saltiness', 'salty', 'salts', 'saltines', 'saltyness', 'saltine',\n",
       "       'saltier', nan], dtype=object)"
      ]
     },
     "metadata": {},
     "output_type": "display_data"
    },
    {
     "name": "stdout",
     "output_type": "stream",
     "text": [
      "Impact.3\n",
      "--------------------\n"
     ]
    },
    {
     "data": {
      "text/plain": [
       "array([ 1., nan])"
      ]
     },
     "metadata": {},
     "output_type": "display_data"
    }
   ],
   "source": [
    "#   Display Taste cell contents\n",
    "#   -----------------------------------\n",
    "\n",
    "for col in rawdata_2:\n",
    "    print(col)\n",
    "    print('--------------------')\n",
    "    content_taste = rawdata_2[col].unique()\n",
    "    display(content_taste)\n"
   ]
  },
  {
   "cell_type": "code",
   "execution_count": 11,
   "metadata": {},
   "outputs": [
    {
     "name": "stdout",
     "output_type": "stream",
     "text": [
      "Fruity\n",
      "--------------------\n"
     ]
    },
    {
     "data": {
      "text/plain": [
       "array(['berries', 'berry', 'blabaer', 'blackberries', 'blackberry',\n",
       "       'blackcurrant', 'blue', 'blueberries', 'blueberry',\n",
       "       'boysenberries', 'boysenberry', 'cassis', 'cherries', 'cherry',\n",
       "       'cranberries', 'cranberry', 'currant', 'currants', 'date', 'dates',\n",
       "       'elderberries', 'elderberry', 'fig', 'figgy', 'figs', 'fruit',\n",
       "       'fruited', 'fruitier', 'fruitiness', 'fruiting', 'fruitness',\n",
       "       'fruits', 'goose', 'gooseberries', 'gooseberry', 'grape', 'grapes',\n",
       "       'juice', 'juiced', 'juices', 'juiciness', 'juicy', 'lingonberries',\n",
       "       'maraschino', 'plum', 'plums', 'pluots', 'pomegranate',\n",
       "       'pomegranates', 'prune', 'raisin', 'raisins', 'raisiny',\n",
       "       'raspberries', 'raspberry', 'rhubarb', 'strawberries',\n",
       "       'strawberry', 'berried', 'rasberries', 'mulberries',\n",
       "       'blackcurrants', 'blackcurrent', 'cherrys', 'redcurrant',\n",
       "       'lingonberry', 'plumy', 'plume', 'plummy', 'pluot', 'pruney',\n",
       "       'prunes', 'apple', 'apples', 'bergamot', 'citra', 'citric',\n",
       "       'citron', 'citrus', 'citrusy', 'clementine', 'grapefruit',\n",
       "       'grapefruits', 'kumquat', 'kumquats', 'lemon', 'lemonade',\n",
       "       'lemondrop', 'lemongrass', 'lemons', 'lemony', 'lime', 'limes',\n",
       "       'mandarin', 'mandarina', 'orange', 'oranges', 'orangey', 'tangelo',\n",
       "       'tangerine', 'yuzu', 'zest', 'zesty', 'tangerines', 'fruitty',\n",
       "       'fruiter', 'frutiness', 'fruityness', 'fruittyness', 'clementines',\n",
       "       'grapefruity', 'grapfruit', 'grapefuit', 'lemmon', 'limey',\n",
       "       'mandarins', 'orang', 'orangy', 'orangeish', 'orangish',\n",
       "       'zestiness', 'apricot', 'apricots', 'banana', 'bananas',\n",
       "       'cantaloupe', 'cider', 'coconut', 'ester', 'esters', 'estery',\n",
       "       'honeydew', 'kiwi', 'kiwifruit', 'kiwis', 'koji', 'lychee',\n",
       "       'mango', 'mangos', 'melon', 'melons', 'mongo', 'nectar',\n",
       "       'nectarine', 'nectars', 'papaya', 'passionfruit', 'peach',\n",
       "       'peaches', 'peachyness', 'pear', 'pears', 'pineapple', 'pumpkin',\n",
       "       'pumpkins', 'pumpkiny', 'tropical', 'watermelon', 'yams',\n",
       "       'cantelope', 'nectary', 'nectarines', 'pineapples', 'bannana',\n",
       "       'bananna', 'coconuts', 'lychees', 'mang', 'mangoes', 'peachy',\n",
       "       'pumkin', 'tropicals', 'topical', 'watermelons', nan], dtype=object)"
      ]
     },
     "metadata": {},
     "output_type": "display_data"
    },
    {
     "name": "stdout",
     "output_type": "stream",
     "text": [
      "Impact\n",
      "--------------------\n"
     ]
    },
    {
     "data": {
      "text/plain": [
       "array([ 1., nan])"
      ]
     },
     "metadata": {},
     "output_type": "display_data"
    },
    {
     "name": "stdout",
     "output_type": "stream",
     "text": [
      "Hoppy\n",
      "--------------------\n"
     ]
    },
    {
     "data": {
      "text/plain": [
       "array(['ahtanum', 'amarillo', 'apollo', 'azacca', 'bitter', 'bittered',\n",
       "       'bitterhop', 'bittering', 'bitterly', 'bitterness', 'bitters',\n",
       "       'bittersweet', 'bittnerness', 'chinook', 'cypress', 'czech',\n",
       "       'forest', 'forester', 'forests', 'fuggle', 'fuggles', 'golding',\n",
       "       'goldings', 'hallaertau', 'hallartau', 'hallertau', 'hallertauer',\n",
       "       'hallertaur', 'hallerteau', 'hop', 'hopped', 'hoppier', 'hoppiest',\n",
       "       'hoppin', 'hoppiness', 'hopping', 'hoppings', 'hoppy', 'hops',\n",
       "       'mosaic', 'mosaics', 'myrcene', 'palisade', 'resin', 'resinous',\n",
       "       'resins', 'resiny', 'saaz', 'tettanang', 'tettnang', 'willamette',\n",
       "       'willamettehops', 'williamette', 'hopy', 'hoppyness', 'mosiac',\n",
       "       'tettnanger', 'earthyness', 'earth', 'earthiness', 'earthy',\n",
       "       'forrest', 'foresty', 'pines', 'pine', 'piney', 'piny', 'sprucey',\n",
       "       'sprucy', 'earthly', 'earthen', 'grasses', 'gassy', 'basil',\n",
       "       'cilantro', 'clover', 'clovers', 'coriander', 'corriander', 'herb',\n",
       "       'herbaceous', 'herbaceousness', 'herbed', 'herbs', 'lawn', 'lawns',\n",
       "       'mint', 'minty', 'parsley', 'peppermint', 'rosemary', 'saffron',\n",
       "       'sage', 'spearmint', 'spruce', 'tea', 'thistle', 'thyme',\n",
       "       'ulmaria', 'herby', 'herbal', 'herbacious', 'herbals', 'teas',\n",
       "       'chive', 'blooms', 'blossom', 'blossoms', 'botanical',\n",
       "       'botanicals', 'cologne', 'daisy', 'dandelion', 'elderberries',\n",
       "       'elderberry', 'elderflower', 'evergreen', 'fern', 'flora',\n",
       "       'floral', 'florals', 'flower', 'flowers', 'flowery', 'foliage',\n",
       "       'grass', 'grassy', 'hibiscus', 'holly', 'honeysuckle', 'lavender',\n",
       "       'perfume', 'perfumed', 'rosa', 'rose', 'roses', 'rosie',\n",
       "       'wildflower', 'wildflowers', 'bloom', 'florally', 'florality',\n",
       "       'floralness', 'sunflower', 'perfumey', 'perfumes', 'perfumy',\n",
       "       'rosey', nan], dtype=object)"
      ]
     },
     "metadata": {},
     "output_type": "display_data"
    },
    {
     "name": "stdout",
     "output_type": "stream",
     "text": [
      "Impact.1\n",
      "--------------------\n"
     ]
    },
    {
     "data": {
      "text/plain": [
       "array([ 1., nan])"
      ]
     },
     "metadata": {},
     "output_type": "display_data"
    },
    {
     "name": "stdout",
     "output_type": "stream",
     "text": [
      "Spices\n",
      "--------------------\n"
     ]
    },
    {
     "data": {
      "text/plain": [
       "array(['absinthe', 'allspice', 'anise', 'aniseed', 'annatto', 'bragget',\n",
       "       'braggot', 'cask', 'casks', 'cardamom', 'cardamon', 'cinnamon',\n",
       "       'clove', 'cloves', 'cumin', 'ginger', 'nutmeg', 'pepper',\n",
       "       'peppercorn', 'peppercorns', 'peppered', 'peppery', 'spice',\n",
       "       'spiced', 'spices', 'spiciness', 'spicing', 'vanilla', 'vanille',\n",
       "       'vanillla', 'anis', 'cinamon', 'gingery', 'spiceness',\n",
       "       'spiceyness', 'spicyness', 'vanillas', 'ancho', 'bacon',\n",
       "       'barbecue', 'barbecues', 'barbeque', 'barbeques', 'bbq', 'bbqs',\n",
       "       'capsaicin', 'cayenne', 'chile', 'chiles', 'chili', 'chilies',\n",
       "       'chilis', 'chillies', 'chillis', 'chipotle', 'chipotles', 'cigar',\n",
       "       'curries', 'curry', 'habanero', 'habaneros', 'habenero', 'hickory',\n",
       "       'jalape', 'jalapeno', 'jalapenos', 'peppers', 'serano', 'serrano',\n",
       "       'sichuan', 'smoke', 'smoked', 'smokehouse', 'smokemalt', 'smoker',\n",
       "       'smokestack', 'smokey', 'smokiness', 'smoking', 'smoky', 'spicier',\n",
       "       'spicy', 'tandoori', 'tobacco', 'vindaloo', 'bacony', 'barbecued',\n",
       "       'chilie', 'chilli', 'cigars', 'jalepeno', 'smokes', 'smokier',\n",
       "       'smokyness', 'smokeyness', 'smokiest', 'tabacco', 'spicey',\n",
       "       'pepperoni', nan], dtype=object)"
      ]
     },
     "metadata": {},
     "output_type": "display_data"
    },
    {
     "name": "stdout",
     "output_type": "stream",
     "text": [
      "Impact.2\n",
      "--------------------\n"
     ]
    },
    {
     "data": {
      "text/plain": [
       "array([ 1., nan])"
      ]
     },
     "metadata": {},
     "output_type": "display_data"
    },
    {
     "name": "stdout",
     "output_type": "stream",
     "text": [
      "Malty\n",
      "--------------------\n"
     ]
    },
    {
     "data": {
      "text/plain": [
       "array(['amaranth', 'azrael', 'barley', 'barleymalt', 'barleys',\n",
       "       'biscotti', 'biscuit', 'biscuits', 'biscuity', 'bisque', 'bisquit',\n",
       "       'bourbon', 'bourbons', 'bread', 'breads', 'bready', 'buckwheat',\n",
       "       'cereal', 'cereals', 'cookie', 'cookies', 'cracker', 'crackers',\n",
       "       'crackery', 'doughnut', 'doughnuts', 'doughy', 'faro', 'fruitcake',\n",
       "       'fruitcakes', 'gingerbread', 'graham', 'grain', 'grains', 'grainy',\n",
       "       'granola', 'grits', 'gritty', 'koji', 'koshihikari', 'malt',\n",
       "       'malted', 'maltier', 'maltiness', 'malting', 'maltings', 'malto',\n",
       "       'maltose', 'malts', 'malty', 'molasses', 'oat', 'oatmeal', 'oats',\n",
       "       'pancakes', 'pie', 'pies', 'pumpernickel', 'quinoa', 'rice', 'rye',\n",
       "       'ryed', 'sourdough', 'wheat', 'wheated', 'wheatey', 'wheatier',\n",
       "       'wheatly', 'wheaty', 'moleasses', 'molassesy', 'molassess',\n",
       "       'molases', 'mollases', 'molassis', 'molassas', 'donuts', 'mapley',\n",
       "       'oatiness', 'maltness', 'bisuit', 'biscut', 'buiscuity', 'buscuit',\n",
       "       'biscuty', 'buscuity', 'biscuitiness', 'bisquity', 'breaddy',\n",
       "       'cerealy', 'cereales', 'dough', 'faros', 'grainey', 'grained',\n",
       "       'malta', 'maltly', 'maltyness', 'oaty', 'pancake', 'ricey', 'ryes',\n",
       "       'wheats', 'wheaties', 'almond', 'almonds', 'anjilanaka',\n",
       "       'askinosie', 'brandied', 'brandy', 'brownie', 'brownies', 'brulee',\n",
       "       'bruleed', 'butter', 'buttery', 'butterscotch', 'cacao', 'cacoa',\n",
       "       'cappuccino', 'caramel', 'caramelised', 'caramelized', 'caramelly',\n",
       "       'caramelo', 'caramely', 'carmel', 'carmelization', 'carmelized',\n",
       "       'carmelly', 'castanea', 'chestnut', 'chestnuts', 'chocoalte',\n",
       "       'chocolate', 'chocolately', 'chocolates', 'chocolatey',\n",
       "       'chocolatiers', 'chocolaty', 'cocoa', 'coffee', 'coffees',\n",
       "       'dessert', 'desserts', 'espress', 'espresso', 'flan',\n",
       "       'frappuccino', 'fudge', 'fudgey', 'hazelnut', 'hazelnuts', 'honey',\n",
       "       'horchata', 'java', 'maple', 'mocha', 'nougat', 'nugget', 'nut',\n",
       "       'nuts', 'nuttier', 'nuttiness', 'nutty', 'oreo', 'peanut',\n",
       "       'peanuted', 'peanuts', 'pecan', 'pecans', 'pudding', 'puddings',\n",
       "       'rich', 'richer', 'richest', 'richly', 'richness', 'riich', 'seed',\n",
       "       'seeded', 'seeds', 'toffee', 'walnut', 'walnuts', 'chocholate',\n",
       "       'choclate', 'chcolate', 'chocolatiness', 'coco', 'coca', 'choco',\n",
       "       'coffe', 'cofee', 'acorns', 'acorn', 'cinnabon', 'chesnut',\n",
       "       'express', 'expresso', 'fudgy', 'hazlenut', 'nutiness',\n",
       "       'nuttyness', 'oreos', 'seedy', 'toffe', 'tofee', 'toffeeish'],\n",
       "      dtype=object)"
      ]
     },
     "metadata": {},
     "output_type": "display_data"
    },
    {
     "name": "stdout",
     "output_type": "stream",
     "text": [
      "Impact.3\n",
      "--------------------\n"
     ]
    },
    {
     "data": {
      "text/plain": [
       "array([1])"
      ]
     },
     "metadata": {},
     "output_type": "display_data"
    }
   ],
   "source": [
    "#   Display Flavor and Aroma cell contents\n",
    "#   ----------------------------------------\n",
    "\n",
    "for col in rawdata_3:\n",
    "    print(col)\n",
    "    print('--------------------')\n",
    "    content_flavor = rawdata_3[col].unique()\n",
    "    display(content_flavor)"
   ]
  },
  {
   "cell_type": "code",
   "execution_count": 7,
   "metadata": {},
   "outputs": [
    {
     "data": {
      "text/html": [
       "<div>\n",
       "<style scoped>\n",
       "    .dataframe tbody tr th:only-of-type {\n",
       "        vertical-align: middle;\n",
       "    }\n",
       "\n",
       "    .dataframe tbody tr th {\n",
       "        vertical-align: top;\n",
       "    }\n",
       "\n",
       "    .dataframe thead th {\n",
       "        text-align: right;\n",
       "    }\n",
       "</style>\n",
       "<table border=\"1\" class=\"dataframe\">\n",
       "  <thead>\n",
       "    <tr style=\"text-align: right;\">\n",
       "      <th></th>\n",
       "      <th>Bitter</th>\n",
       "      <th>Impact</th>\n",
       "      <th>Sweet</th>\n",
       "      <th>Impact.1</th>\n",
       "      <th>Sour</th>\n",
       "      <th>Impact.2</th>\n",
       "      <th>Salty</th>\n",
       "      <th>Impact.3</th>\n",
       "    </tr>\n",
       "  </thead>\n",
       "  <tbody>\n",
       "    <tr>\n",
       "      <th>0</th>\n",
       "      <td>ahtanum</td>\n",
       "      <td>1.0</td>\n",
       "      <td>acacia</td>\n",
       "      <td>1</td>\n",
       "      <td>acetic</td>\n",
       "      <td>1.0</td>\n",
       "      <td>caviar</td>\n",
       "      <td>1.0</td>\n",
       "    </tr>\n",
       "  </tbody>\n",
       "</table>\n",
       "</div>"
      ],
      "text/plain": [
       "    Bitter  Impact   Sweet  Impact.1    Sour  Impact.2   Salty  Impact.3\n",
       "0  ahtanum     1.0  acacia         1  acetic       1.0  caviar       1.0"
      ]
     },
     "execution_count": 7,
     "metadata": {},
     "output_type": "execute_result"
    }
   ],
   "source": [
    "rawdata_2.head(1)"
   ]
  },
  {
   "cell_type": "code",
   "execution_count": 6,
   "metadata": {},
   "outputs": [
    {
     "data": {
      "text/html": [
       "<div>\n",
       "<style scoped>\n",
       "    .dataframe tbody tr th:only-of-type {\n",
       "        vertical-align: middle;\n",
       "    }\n",
       "\n",
       "    .dataframe tbody tr th {\n",
       "        vertical-align: top;\n",
       "    }\n",
       "\n",
       "    .dataframe thead th {\n",
       "        text-align: right;\n",
       "    }\n",
       "</style>\n",
       "<table border=\"1\" class=\"dataframe\">\n",
       "  <thead>\n",
       "    <tr style=\"text-align: right;\">\n",
       "      <th></th>\n",
       "      <th>Fruity</th>\n",
       "      <th>Impact</th>\n",
       "      <th>Hoppy</th>\n",
       "      <th>Impact.1</th>\n",
       "      <th>Spices</th>\n",
       "      <th>Impact.2</th>\n",
       "      <th>Malty</th>\n",
       "      <th>Impact.3</th>\n",
       "    </tr>\n",
       "  </thead>\n",
       "  <tbody>\n",
       "    <tr>\n",
       "      <th>0</th>\n",
       "      <td>berries</td>\n",
       "      <td>1.0</td>\n",
       "      <td>ahtanum</td>\n",
       "      <td>1.0</td>\n",
       "      <td>absinthe</td>\n",
       "      <td>1.0</td>\n",
       "      <td>amaranth</td>\n",
       "      <td>1</td>\n",
       "    </tr>\n",
       "  </tbody>\n",
       "</table>\n",
       "</div>"
      ],
      "text/plain": [
       "    Fruity  Impact    Hoppy  Impact.1    Spices  Impact.2     Malty  Impact.3\n",
       "0  berries     1.0  ahtanum       1.0  absinthe       1.0  amaranth         1"
      ]
     },
     "execution_count": 6,
     "metadata": {},
     "output_type": "execute_result"
    }
   ],
   "source": [
    "rawdata_3.head(1)"
   ]
  },
  {
   "cell_type": "code",
   "execution_count": null,
   "metadata": {},
   "outputs": [],
   "source": [
    "#       QUESTION - comment récupérer le COUNT de valeur d'une occurence (si > 1 afficher)\n",
    "\n",
    "\n",
    "for col in rawdata_1.columns:\n",
    "        df_nan = rawdata_1[[col]].isna().sum()\n",
    "        display(df_nan)\n",
    "\n",
    "for col in rawdata_1.columns:\n",
    "        display(rawdata_1[col].value_counts().sort_values())\n",
    "\n",
    "for col in rawdata_2.columns:\n",
    "        display(rawdata_2[col].value_counts().sort_values())\n",
    "\n",
    "for col in rawdata_3.columns:\n",
    "        display(rawdata_3[col].value_counts().sort_values())\n"
   ]
  },
  {
   "cell_type": "markdown",
   "metadata": {},
   "source": [
    "Outcome of value counts\n",
    "------------------------------\n",
    "\n",
    "1 count per word \n",
    "several counts on  impact columns\n",
    "    "
   ]
  },
  {
   "cell_type": "code",
   "execution_count": 20,
   "metadata": {},
   "outputs": [],
   "source": [
    "FIGSIZE = (6,7)    # Taille figure en pouce - utlise dans tous les graphes\n",
    "FIGSIZE2 = (3,4)"
   ]
  },
  {
   "cell_type": "code",
   "execution_count": 51,
   "metadata": {},
   "outputs": [
    {
     "data": {
      "image/png": "[encoded data removed]",
      "text/plain": [
       "<Figure size 600x700 with 1 Axes>"
      ]
     },
     "metadata": {},
     "output_type": "display_data"
    },
    {
     "data": {
      "image/png": "[encoded data removed]",
      "text/plain": [
       "<Figure size 600x700 with 1 Axes>"
      ]
     },
     "metadata": {},
     "output_type": "display_data"
    },
    {
     "data": {
      "image/png": "[encoded data removed]",
      "text/plain": [
       "<Figure size 600x700 with 1 Axes>"
      ]
     },
     "metadata": {},
     "output_type": "display_data"
    }
   ],
   "source": [
    "#   Repérer s'il y a des NULL et leur distribution / localisation\n",
    "#   ---------------------------------------------------------------\n",
    "    #   Tab 1 - Mouthfeel\n",
    "\n",
    "plt.figure(figsize=FIGSIZE)         # Fonction figure > declarer figure dans laquelle je vais travailler\n",
    "plt.title('Heatmap Null Value')     #   Titre de la figure\n",
    "sns.heatmap(rawdata_1.isna(),cbar=False)      # Utilise graphique heatmap de seaborn dans matlpotlib / \n",
    "                                            #   isna nous dnne un masque boleen\n",
    "plt.show()\n",
    "\n",
    "    #   Tab 2 - Taste\n",
    "\n",
    "plt.figure(figsize=FIGSIZE)         # Fonction figure > declarer figure dans laquelle je vais travailler\n",
    "plt.title('Heatmap Null Value')     #   Titre de la figure\n",
    "sns.heatmap(rawdata_2.isna(),cbar=False)      # Utilise graphique heatmap de seaborn dans matlpotlib / \n",
    "                                            #   isna nous dnne un masque boleen\n",
    "plt.show()\n",
    "\n",
    "\n",
    "    #   Tab 3 - Flavor and Aroma\n",
    "\n",
    "plt.figure(figsize=FIGSIZE)         # Fonction figure > declarer figure dans laquelle je vais travailler\n",
    "plt.title('Heatmap Null Value')     #   Titre de la figure\n",
    "sns.heatmap(rawdata_3.isna(),cbar=False)      # Utilise graphique heatmap de seaborn dans matlpotlib / \n",
    "                                            #   isna nous dnne un masque boleen\n",
    "plt.show()\n",
    "\n",
    "\n"
   ]
  },
  {
   "cell_type": "markdown",
   "metadata": {},
   "source": [
    "Null Values as not samle amount of lines\n",
    "To be seen how thos file is used to opunt the words"
   ]
  },
  {
   "cell_type": "code",
   "execution_count": null,
   "metadata": {},
   "outputs": [],
   "source": [
    "#   Show datasets\n",
    "#   -------------------\n",
    "\n",
    "rawdata_1\n",
    "rawdata_2\n",
    "rawdata_3"
   ]
  },
  {
   "cell_type": "code",
   "execution_count": 55,
   "metadata": {},
   "outputs": [
    {
     "name": "stdout",
     "output_type": "stream",
     "text": [
      "<class 'pandas.core.frame.DataFrame'>\n",
      "RangeIndex: 97 entries, 0 to 96\n",
      "Data columns (total 6 columns):\n",
      " #   Column      Non-Null Count  Dtype  \n",
      "---  ------      --------------  -----  \n",
      " 0   Astringent  89 non-null     object \n",
      " 1   Impact      89 non-null     float64\n",
      " 2   Body        97 non-null     object \n",
      " 3   Impact.1    97 non-null     int64  \n",
      " 4   Alcoholic   64 non-null     object \n",
      " 5   Impact.2    64 non-null     float64\n",
      "dtypes: float64(2), int64(1), object(3)\n",
      "memory usage: 4.7+ KB\n",
      "<class 'pandas.core.frame.DataFrame'>\n",
      "RangeIndex: 128 entries, 0 to 127\n",
      "Data columns (total 8 columns):\n",
      " #   Column    Non-Null Count  Dtype  \n",
      "---  ------    --------------  -----  \n",
      " 0   Bitter    86 non-null     object \n",
      " 1   Impact    86 non-null     float64\n",
      " 2   Sweet     128 non-null    object \n",
      " 3   Impact.1  128 non-null    int64  \n",
      " 4   Sour      111 non-null    object \n",
      " 5   Impact.2  111 non-null    float64\n",
      " 6   Salty     13 non-null     object \n",
      " 7   Impact.3  13 non-null     float64\n",
      "dtypes: float64(3), int64(1), object(4)\n",
      "memory usage: 8.1+ KB\n",
      "<class 'pandas.core.frame.DataFrame'>\n",
      "RangeIndex: 209 entries, 0 to 208\n",
      "Data columns (total 8 columns):\n",
      " #   Column    Non-Null Count  Dtype  \n",
      "---  ------    --------------  -----  \n",
      " 0   Fruity    174 non-null    object \n",
      " 1   Impact    174 non-null    float64\n",
      " 2   Hoppy     148 non-null    object \n",
      " 3   Impact.1  148 non-null    float64\n",
      " 4   Spices    99 non-null     object \n",
      " 5   Impact.2  99 non-null     float64\n",
      " 6   Malty     209 non-null    object \n",
      " 7   Impact.3  209 non-null    int64  \n",
      "dtypes: float64(3), int64(1), object(4)\n",
      "memory usage: 13.2+ KB\n"
     ]
    }
   ],
   "source": [
    "rawdata_1.info()\n",
    "rawdata_2.info()\n",
    "rawdata_3.info()"
   ]
  },
  {
   "cell_type": "markdown",
   "metadata": {},
   "source": [
    "No relevant"
   ]
  },
  {
   "cell_type": "code",
   "execution_count": null,
   "metadata": {},
   "outputs": [],
   "source": [
    "#   Demarche\n",
    "#\n",
    "    #   Voir type de colonnes - séggreger datasets (discontinu eg object et continu)\n",
    "    #   Compter valurs uniques \n",
    "    #   Value counts du discontinu\n",
    "        #   Si peu d'ocurrences - catégories, countplot valable\n",
    "        #   Si beaucoup d'ocurrences - catégories, hisplot valable"
   ]
  },
  {
   "cell_type": "code",
   "execution_count": null,
   "metadata": {},
   "outputs": [],
   "source": [
    "#   Graphes sur variables catégorielles > distribution      >> Hist plot / count plot pas de sens\n",
    "#   -----------------------------------------------------\n"
   ]
  }
 ],
 "metadata": {
  "kernelspec": {
   "display_name": "Python 3",
   "language": "python",
   "name": "python3"
  },
  "language_info": {
   "codemirror_mode": {
    "name": "ipython",
    "version": 3
   },
   "file_extension": ".py",
   "mimetype": "text/x-python",
   "name": "python",
   "nbconvert_exporter": "python",
   "pygments_lexer": "ipython3",
   "version": "3.9.13"
  }
 },
 "nbformat": 4,
 "nbformat_minor": 2
}
