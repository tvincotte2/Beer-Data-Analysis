{
 "cells": [
  {
   "cell_type": "code",
   "execution_count": null,
   "metadata": {},
   "outputs": [],
   "source": [
    "# %pip install pandas openpyxl \n",
    "#   use of excel writer"
   ]
  },
  {
   "cell_type": "code",
   "execution_count": 2,
   "metadata": {},
   "outputs": [],
   "source": [
    "import numpy as np\n",
    "import pandas as pd\n",
    "\n",
    "import matplotlib.pyplot as plt\n",
    "import seaborn as sns\n",
    "\n",
    "import pingouin as pg"
   ]
  },
  {
   "cell_type": "code",
   "execution_count": null,
   "metadata": {},
   "outputs": [],
   "source": [
    "#   File Beer Profiles and ratings.csv\n",
    "#   --------------------------------------\n",
    "\n",
    "# This file contains 1 Tabs  with Beer dateset detailled profile and ratings info\n",
    "    #   Objective of this script - check relations between dimension concepts\n"
   ]
  },
  {
   "cell_type": "code",
   "execution_count": 3,
   "metadata": {},
   "outputs": [],
   "source": [
    "# Fetch raw data\n",
    "\n",
    "rawdata = pd.read_csv(r'C:\\Users\\t.vincotte\\Documents\\CODE\\TFE\\EoF - Work\\Beer_Profile\\Source_Files\\beer_profile_and_ratings.csv') \n",
    " "
   ]
  },
  {
   "cell_type": "code",
   "execution_count": 4,
   "metadata": {},
   "outputs": [
    {
     "data": {
      "text/plain": [
       "Name                 3197\n",
       "Style                3197\n",
       "Brewery              3197\n",
       "Beer Name (Full)     3197\n",
       "Description          3197\n",
       "ABV                  3197\n",
       "Min IBU              3197\n",
       "Max IBU              3197\n",
       "Astringency          3197\n",
       "Body                 3197\n",
       "Alcohol              3197\n",
       "Bitter               3197\n",
       "Sweet                3197\n",
       "Sour                 3197\n",
       "Salty                3197\n",
       "Fruits               3197\n",
       "Hoppy                3197\n",
       "Spices               3197\n",
       "Malty                3197\n",
       "review_aroma         3197\n",
       "review_appearance    3197\n",
       "review_palate        3197\n",
       "review_taste         3197\n",
       "review_overall       3197\n",
       "number_of_reviews    3197\n",
       "dtype: int64"
      ]
     },
     "execution_count": 4,
     "metadata": {},
     "output_type": "execute_result"
    }
   ],
   "source": [
    "rawdata.count()"
   ]
  },
  {
   "cell_type": "code",
   "execution_count": 5,
   "metadata": {},
   "outputs": [
    {
     "name": "stdout",
     "output_type": "stream",
     "text": [
      "<class 'pandas.core.frame.DataFrame'>\n",
      "RangeIndex: 3197 entries, 0 to 3196\n",
      "Data columns (total 25 columns):\n",
      " #   Column             Non-Null Count  Dtype  \n",
      "---  ------             --------------  -----  \n",
      " 0   Name               3197 non-null   object \n",
      " 1   Style              3197 non-null   object \n",
      " 2   Brewery            3197 non-null   object \n",
      " 3   Beer Name (Full)   3197 non-null   object \n",
      " 4   Description        3197 non-null   object \n",
      " 5   ABV                3197 non-null   float64\n",
      " 6   Min IBU            3197 non-null   int64  \n",
      " 7   Max IBU            3197 non-null   int64  \n",
      " 8   Astringency        3197 non-null   int64  \n",
      " 9   Body               3197 non-null   int64  \n",
      " 10  Alcohol            3197 non-null   int64  \n",
      " 11  Bitter             3197 non-null   int64  \n",
      " 12  Sweet              3197 non-null   int64  \n",
      " 13  Sour               3197 non-null   int64  \n",
      " 14  Salty              3197 non-null   int64  \n",
      " 15  Fruits             3197 non-null   int64  \n",
      " 16  Hoppy              3197 non-null   int64  \n",
      " 17  Spices             3197 non-null   int64  \n",
      " 18  Malty              3197 non-null   int64  \n",
      " 19  review_aroma       3197 non-null   float64\n",
      " 20  review_appearance  3197 non-null   float64\n",
      " 21  review_palate      3197 non-null   float64\n",
      " 22  review_taste       3197 non-null   float64\n",
      " 23  review_overall     3197 non-null   float64\n",
      " 24  number_of_reviews  3197 non-null   int64  \n",
      "dtypes: float64(6), int64(14), object(5)\n",
      "memory usage: 624.5+ KB\n"
     ]
    },
    {
     "data": {
      "text/html": [
       "<div>\n",
       "<style scoped>\n",
       "    .dataframe tbody tr th:only-of-type {\n",
       "        vertical-align: middle;\n",
       "    }\n",
       "\n",
       "    .dataframe tbody tr th {\n",
       "        vertical-align: top;\n",
       "    }\n",
       "\n",
       "    .dataframe thead th {\n",
       "        text-align: right;\n",
       "    }\n",
       "</style>\n",
       "<table border=\"1\" class=\"dataframe\">\n",
       "  <thead>\n",
       "    <tr style=\"text-align: right;\">\n",
       "      <th></th>\n",
       "    </tr>\n",
       "  </thead>\n",
       "  <tbody>\n",
       "  </tbody>\n",
       "</table>\n",
       "</div>"
      ],
      "text/plain": [
       "Empty DataFrame\n",
       "Columns: []\n",
       "Index: []"
      ]
     },
     "execution_count": 5,
     "metadata": {},
     "output_type": "execute_result"
    }
   ],
   "source": [
    "#rawdata.info()\n",
    "str = rawdata.info()\n",
    "structure = pd.DataFrame(str)  #  ne met pas en dataframe\n",
    "structure\n",
    "# structure.to_excel(\"Beer_datasets_structures\",sheet_name='Beer data set details') # n ecrit pas le rawdata.info dans le fichier"
   ]
  },
  {
   "cell_type": "code",
   "execution_count": 6,
   "metadata": {},
   "outputs": [
    {
     "data": {
      "text/html": [
       "<div>\n",
       "<style scoped>\n",
       "    .dataframe tbody tr th:only-of-type {\n",
       "        vertical-align: middle;\n",
       "    }\n",
       "\n",
       "    .dataframe tbody tr th {\n",
       "        vertical-align: top;\n",
       "    }\n",
       "\n",
       "    .dataframe thead th {\n",
       "        text-align: right;\n",
       "    }\n",
       "</style>\n",
       "<table border=\"1\" class=\"dataframe\">\n",
       "  <thead>\n",
       "    <tr style=\"text-align: right;\">\n",
       "      <th></th>\n",
       "      <th>Name</th>\n",
       "      <th>Style</th>\n",
       "      <th>Brewery</th>\n",
       "      <th>Beer Name (Full)</th>\n",
       "      <th>Description</th>\n",
       "      <th>ABV</th>\n",
       "      <th>Min IBU</th>\n",
       "      <th>Max IBU</th>\n",
       "      <th>Astringency</th>\n",
       "      <th>Body</th>\n",
       "      <th>...</th>\n",
       "      <th>Fruits</th>\n",
       "      <th>Hoppy</th>\n",
       "      <th>Spices</th>\n",
       "      <th>Malty</th>\n",
       "      <th>review_aroma</th>\n",
       "      <th>review_appearance</th>\n",
       "      <th>review_palate</th>\n",
       "      <th>review_taste</th>\n",
       "      <th>review_overall</th>\n",
       "      <th>number_of_reviews</th>\n",
       "    </tr>\n",
       "  </thead>\n",
       "  <tbody>\n",
       "    <tr>\n",
       "      <th>0</th>\n",
       "      <td>Amber</td>\n",
       "      <td>Altbier</td>\n",
       "      <td>Alaskan Brewing Co.</td>\n",
       "      <td>Alaskan Brewing Co. Alaskan Amber</td>\n",
       "      <td>Notes:Richly malty and long on the palate, wit...</td>\n",
       "      <td>5.3</td>\n",
       "      <td>25</td>\n",
       "      <td>50</td>\n",
       "      <td>13</td>\n",
       "      <td>32</td>\n",
       "      <td>...</td>\n",
       "      <td>33</td>\n",
       "      <td>57</td>\n",
       "      <td>8</td>\n",
       "      <td>111</td>\n",
       "      <td>3.498994</td>\n",
       "      <td>3.636821</td>\n",
       "      <td>3.556338</td>\n",
       "      <td>3.643863</td>\n",
       "      <td>3.847082</td>\n",
       "      <td>497</td>\n",
       "    </tr>\n",
       "  </tbody>\n",
       "</table>\n",
       "<p>1 rows × 25 columns</p>\n",
       "</div>"
      ],
      "text/plain": [
       "    Name    Style              Brewery                   Beer Name (Full)  \\\n",
       "0  Amber  Altbier  Alaskan Brewing Co.  Alaskan Brewing Co. Alaskan Amber   \n",
       "\n",
       "                                         Description  ABV  Min IBU  Max IBU  \\\n",
       "0  Notes:Richly malty and long on the palate, wit...  5.3       25       50   \n",
       "\n",
       "   Astringency  Body  ...  Fruits  Hoppy  Spices  Malty  review_aroma  \\\n",
       "0           13    32  ...      33     57       8    111      3.498994   \n",
       "\n",
       "   review_appearance  review_palate  review_taste  review_overall  \\\n",
       "0           3.636821       3.556338      3.643863        3.847082   \n",
       "\n",
       "   number_of_reviews  \n",
       "0                497  \n",
       "\n",
       "[1 rows x 25 columns]"
      ]
     },
     "execution_count": 6,
     "metadata": {},
     "output_type": "execute_result"
    }
   ],
   "source": [
    "rawdata.head(1)"
   ]
  },
  {
   "cell_type": "code",
   "execution_count": null,
   "metadata": {},
   "outputs": [],
   "source": [
    "#   Only show columns we want to see - methods not used here\n",
    "#   ----------------------------------------------------------\n",
    "\n",
    "        # Using DataFrame.drop\n",
    "            #   df.drop(df.columns[[1, 2]], axis=1, inplace=True)\n",
    "\n",
    "        # Select the ones you want\n",
    "            #   df1 = df[['a','d']]\n"
   ]
  },
  {
   "cell_type": "code",
   "execution_count": 8,
   "metadata": {},
   "outputs": [],
   "source": [
    "#   Beer dimension check - rough listing - create spreadsheet \n",
    "#   ----------------------------------------------------------\n",
    "\n",
    "    #   https://www.geeksforgeeks.org/exporting-a-pandas-dataframe-to-an-excel-file/\n",
    "    #   https://stackoverflow.com/questions/42370977/how-to-save-a-new-sheet-in-an-existing-excel-file-using-pandas\n",
    "    #   https://saturncloud.io/blog/how-to-add-a-worksheet-to-an-existing-excel-file-with-pandas/ \n",
    "\n",
    "df1 = rawdata.drop(['Description'], axis=1)\n",
    "df1.to_excel(\"EDA_DimCheck_BeerProfileRating.xlsx\",sheet_name='rough_listing')\n",
    "\n",
    "        #   Note : (Re)creates spreadsheet as running - below - use method to append sheet\n"
   ]
  },
  {
   "cell_type": "markdown",
   "metadata": {},
   "source": [
    "Alternate method (stack overflow) - Add sheet to existing file\n",
    "-------------------------------------\n",
    "import pandas as pd\n",
    "import numpy as np\n",
    "\n",
    "path = r\"C:\\Users\\fedel\\Desktop\\excelData\\PhD_data.xlsx\"\n",
    "\n",
    "x3 = np.random.randn(100, 2)\n",
    "df3 = pd.DataFrame(x3)\n",
    "\n",
    "x4 = np.random.randn(100, 2)\n",
    "df4 = pd.DataFrame(x4)\n",
    "\n",
    "writer = pd.ExcelWriter(path, engine = 'xlsxwriter')\n",
    "df3.to_excel(writer, sheet_name = 'x3')\n",
    "df4.to_excel(writer, sheet_name = 'x4')\n",
    "writer.save()\n",
    "writer.close()\n",
    "\n",
    "----\n",
    "\n",
    "import pandas as pd\n",
    "\n",
    "data = {'EmployeeID': [101, 102, 103],\n",
    "        'EmployeeName': ['Alice', 'Bob', 'Charlie'],\n",
    "        'Salary': [60000, 70000, 80000]}\n",
    "\n",
    "df_new = pd.DataFrame(data)\n",
    "\n",
    "with pd.ExcelWriter('existing_file.xlsx', engine='openpyxl', mode='a') as writer:\n",
    "    # Write the new DataFrame to a new sheet\n",
    "    df_new.to_excel(writer, sheet_name='New Sheet', index=False)"
   ]
  },
  {
   "cell_type": "code",
   "execution_count": 9,
   "metadata": {},
   "outputs": [],
   "source": [
    "#   Beer dimension check - List by style\n",
    "#   ---------------------------------------\n",
    "    #   Use method to append sheet to existing excel file\n",
    "\n",
    "df1_by_style = df1[['Style','Name','Brewery','ABV']].sort_values(by=['Name']).sort_values(by=['Style'])\n",
    "with pd.ExcelWriter('EDA_DimCheck_BeerProfileRating.xlsx', engine='openpyxl', mode='a') as writer:\n",
    "    # Write the new DataFrame to a new sheet\n",
    "    df1_by_style.to_excel(writer, sheet_name='list_by_style', index=True)\n",
    "\n",
    "# df1_by_style.to_excel(\"EDA_DimCheck_BeerDataset.xlsx\",sheet_name='list_by_style')\n"
   ]
  },
  {
   "cell_type": "code",
   "execution_count": 10,
   "metadata": {},
   "outputs": [],
   "source": [
    "#   Beer dimension check - List by brewery\n",
    "#   ---------------------------------------\n",
    "   #   Use method to append sheet to existing excel file\n",
    "\n",
    "df1_by_brewery = df1[['Brewery','Name','Style','ABV']].sort_values(by=['Name']).sort_values(by=['Brewery'])\n",
    "with pd.ExcelWriter('EDA_DimCheck_BeerProfileRating.xlsx', engine='openpyxl', mode='a') as writer:\n",
    "    # Write the new DataFrame to a new sheet\n",
    "    df1_by_brewery.to_excel(writer, sheet_name='list_by_brewery', index=True)\n"
   ]
  },
  {
   "cell_type": "code",
   "execution_count": 11,
   "metadata": {},
   "outputs": [],
   "source": [
    "#   Beer dimension check - List by style_brewery\n",
    "#   ---------------------------------------------\n",
    "   #   Use method to append sheet to existing excel file\n",
    "\n",
    "df1_by_brewery_style = df1[['Style','Brewery','Name','ABV']].sort_values(by=['Name']).sort_values(by=['Brewery']).sort_values(by=['Style'])\n",
    "with pd.ExcelWriter('EDA_DimCheck_BeerProfileRating.xlsx', engine='openpyxl', mode='a') as writer:\n",
    "    # Write the new DataFrame to a new sheet\n",
    "    df1_by_brewery_style.to_excel(writer, sheet_name='list_by_brewery_style', index=True)\n"
   ]
  },
  {
   "cell_type": "code",
   "execution_count": 12,
   "metadata": {},
   "outputs": [],
   "source": [
    "#   Beer dimension check - List by brewery_style\n",
    "#   ---------------------------------------------\n",
    "   #   Use method to append sheet to existing excel file\n",
    "\n",
    "df1_by_brewery_style = df1[['Brewery','Style','Name','ABV']].sort_values(by=['Name']).sort_values(by=['Style']).sort_values(by=['Brewery'])\n",
    "with pd.ExcelWriter('EDA_DimCheck_BeerProfileRating.xlsx', engine='openpyxl', mode='a') as writer:\n",
    "    # Write the new DataFrame to a new sheet\n",
    "    df1_by_brewery_style.to_excel(writer, sheet_name='list_by_style_brewery', index=True)\n"
   ]
  },
  {
   "cell_type": "code",
   "execution_count": 13,
   "metadata": {},
   "outputs": [
    {
     "data": {
      "text/plain": [
       "Name    3197\n",
       "ABV     3197\n",
       "dtype: int64"
      ]
     },
     "execution_count": 13,
     "metadata": {},
     "output_type": "execute_result"
    }
   ],
   "source": [
    "#     Check if dupplicate beer names\n",
    "#   -------------------------------------\n",
    "#   \n",
    "df1_duplicate_beer_check = df1[['Name','ABV']].count()\n",
    "df1_duplicate_beer_check \n"
   ]
  },
  {
   "cell_type": "code",
   "execution_count": 14,
   "metadata": {},
   "outputs": [
    {
     "data": {
      "text/plain": [
       "<bound method DataFrame.drop_duplicates of                                           Name\n",
       "0                                        Amber\n",
       "1                                   Double Bag\n",
       "2                               Long Trail Ale\n",
       "3                                 Doppelsticke\n",
       "4                 Sleigh'r Dark Doüble Alt Ale\n",
       "...                                        ...\n",
       "3192                           Winter Shredder\n",
       "3193                        The First Snow Ale\n",
       "3194                       Red Nose Winter Ale\n",
       "3195                      Fish Tale Winterfish\n",
       "3196  Frosted Frog Christmas Ale - Barrel-Aged\n",
       "\n",
       "[3197 rows x 1 columns]>"
      ]
     },
     "execution_count": 14,
     "metadata": {},
     "output_type": "execute_result"
    }
   ],
   "source": [
    "#     Check if dupplicate beer names\n",
    "#   -------------------------------------\n",
    "#   \n",
    " \n",
    "df2x = df1[['Name']].drop_duplicates\n",
    "#df2 = pd.DataFrame[df2x]\n",
    "df2x\n",
    "\n",
    "#df2_duplicate_beer_check = df2.count()\n",
    "#df2_duplicate_beer_check "
   ]
  },
  {
   "cell_type": "markdown",
   "metadata": {},
   "source": [
    "Afre drop dupplicate still amount of rows >> no duplicate in beer name"
   ]
  },
  {
   "cell_type": "markdown",
   "metadata": {},
   "source": [
    "3197 records"
   ]
  }
 ],
 "metadata": {
  "kernelspec": {
   "display_name": "Python 3",
   "language": "python",
   "name": "python3"
  },
  "language_info": {
   "codemirror_mode": {
    "name": "ipython",
    "version": 3
   },
   "file_extension": ".py",
   "mimetype": "text/x-python",
   "name": "python",
   "nbconvert_exporter": "python",
   "pygments_lexer": "ipython3",
   "version": "3.9.13"
  }
 },
 "nbformat": 4,
 "nbformat_minor": 2
}
