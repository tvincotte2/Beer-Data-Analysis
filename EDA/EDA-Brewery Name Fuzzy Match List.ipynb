{
 "cells": [
  {
   "cell_type": "code",
   "execution_count": 1,
   "metadata": {},
   "outputs": [],
   "source": [
    "import numpy as np\n",
    "import pandas as pd\n",
    "\n",
    "import matplotlib.pyplot as plt\n",
    "import seaborn as sns\n",
    "\n",
    "import pingouin as pg"
   ]
  },
  {
   "cell_type": "code",
   "execution_count": 2,
   "metadata": {},
   "outputs": [],
   "source": [
    "# Fetch raw data\n",
    "\n",
    "rawdata = pd.read_csv(r'C:\\Users\\t.vincotte\\Documents\\CODE\\TFE\\EoF - Work\\Beer_Profile\\Source_Files\\Brewery Name Fuzzy Match List.csv') \n",
    " "
   ]
  },
  {
   "cell_type": "code",
   "execution_count": 3,
   "metadata": {},
   "outputs": [
    {
     "name": "stdout",
     "output_type": "stream",
     "text": [
      "<class 'pandas.core.frame.DataFrame'>\n",
      "RangeIndex: 87 entries, 0 to 86\n",
      "Data columns (total 2 columns):\n",
      " #   Column   Non-Null Count  Dtype \n",
      "---  ------   --------------  ----- \n",
      " 0   Brewery  87 non-null     object\n",
      " 1   matches  87 non-null     object\n",
      "dtypes: object(2)\n",
      "memory usage: 1.5+ KB\n"
     ]
    }
   ],
   "source": [
    "rawdata.info()"
   ]
  },
  {
   "cell_type": "code",
   "execution_count": 3,
   "metadata": {},
   "outputs": [
    {
     "data": {
      "text/plain": [
       "array(['Žatecký Pivovar',\n",
       "       'Abbey Brewing Co. (Monastery Of Christ In The Desert)',\n",
       "       'Aktienbrauerei Kaufbeuren AG',\n",
       "       \"Alltech's Lexington Brewing and Distilling Co.\",\n",
       "       'Asia Pacific Breweries Limited', 'Atwater Brewery',\n",
       "       'Augustiner-Bräu', 'Bayern Brewing, Inc. / Edelweiss Bistro',\n",
       "       'Boston Beer Works - Canal Street',\n",
       "       'BFM (Brasserie des Franches-Montagnes)', 'Bières de Chimay',\n",
       "       'Big Woods Brewing Co. / Quaff On! Brewing Company',\n",
       "       'Brasserie Artisanale De Rulles SPRL',\n",
       "       'Brasserie des Gabariers (L&L Cognac SA)',\n",
       "       'Brasserie Dieu du Ciel!', 'Brasseur De Montréal',\n",
       "       'Brauerei Früh am Dom', 'Brauerei Gebrüder Maisel',\n",
       "       'Brauerei Ladenburger',\n",
       "       'Brouwerij Bockor N.V. / Brouwerij Omer Vander Ghinste',\n",
       "       'Brouwerij 3 Fonteinen', 'Roman N.V.',\n",
       "       'Huisbrouwerij De Halve Maan', 'Brouwerij Nacional Balashi',\n",
       "       'Central Waters Brewing Co.', 'Cerveceria Mexicana S.A. De C.V.',\n",
       "       'Cervecería Nacional Dominicana', 'Cervecería Vegana S.A.',\n",
       "       'COOP Ale Works', 'Coors Brewing Company (Molson-Coors)',\n",
       "       'Dogfish Head Craft Brewery',\n",
       "       'Dust Bowl Brewing Company - Downtown Taproom',\n",
       "       'Einstök Ölgerð (Einstök Beer Company)',\n",
       "       'Empire Brewing Company - Brewpub', \"Fat Head's Brewery & Saloon\",\n",
       "       'Finch Beer Co.', 'Flensburger Brauerei',\n",
       "       'Foothills Brewing Company - Downtown Brewpub',\n",
       "       'Four Peaks Brewing Company - 8th Street Brewery',\n",
       "       'French Broad River Brewing', 'Friesisches Brauhaus zu Jever',\n",
       "       'George Bateman & Son / Batemans Brewery',\n",
       "       'Great Lakes Brewing Co.',\n",
       "       'Hair Of The Dog Brewing Company / Brewery And Tasting Room',\n",
       "       'Harpoon Brewery & Beer Hall', 'Hops & Grain Brewing',\n",
       "       'Jester King Brewery', 'Lager Heads Smokehouse & Brewing Co.',\n",
       "       'Lonerider Brewing Company', 'The Lord Nelson Brewery Hotel',\n",
       "       \"Mahr's Bräu\", \"Marston's Plc.\",\n",
       "       'Matt Brewing Company / Saranac Brewery',\n",
       "       'Mike Hess Brewing - Miramar', 'Narrow Gauge Brewing Company',\n",
       "       'Nebraska Brewing Company Production Brewery & Tap Room',\n",
       "       'New Belgium Brewing Company', 'Oettinger Brauerei GmbH',\n",
       "       \"O'so Brewing Company & Tap House\", 'Otter Creek Brewing',\n",
       "       'Paulaner Brauerei', 'Picobrouwerij Alvinne',\n",
       "       'Piney River Brewing Co.', 'Pivovar Herold Březnice A.s.',\n",
       "       'Pivovarský dům', 'Privatbrauerei Eichbaum', 'Rinkuškiai',\n",
       "       'Sawdust City Brewing Co.',\n",
       "       'Scuttlebutt Brewing Company - Restaurant and Pub',\n",
       "       'Shipyard Brewing Company', 'The St. George Brewing Company',\n",
       "       'Stone Brewing', 'Sudwerk Brewing Company', 'Swamp Head Brewery',\n",
       "       'Nils Oscar', '3 Floyds Brewing Co.', 'Traquair House Brewery',\n",
       "       'U Fleků Pivovar a Restaurace', 'UAB Švyturys - Utenos alus',\n",
       "       'Uerige Obergärige Hausbrauerei', 'Unicer União Cervejeira S.A.',\n",
       "       'Upslope Brewing Company - Lee Hill',\n",
       "       'Urban Chestnut Brewing Company - Midtown Brewery & Biergarten',\n",
       "       'Victory Brewing Company - Downingtown', 'Volfas Engelman',\n",
       "       'Water Street Brewing Co.', 'Yuengling Brewery'], dtype=object)"
      ]
     },
     "metadata": {},
     "output_type": "display_data"
    },
    {
     "data": {
      "text/plain": [
       "array(['\\x8eŽatecký Pivovar', 'Abbey Brewing Co.',\n",
       "       'Aktien-Brauerei Kaufbeuren AG',\n",
       "       'Alltech’s Lexington Brewing and Distilling Co.',\n",
       "       'Asia Pacific Breweries Ltd.', 'Atwater Block Brewery',\n",
       "       'Augustiner Bräu Kloster Mülln OHG', 'Bayern Brewing, Inc.',\n",
       "       'Beer Works', 'BFM Brasserie Des Franches-Montagnes',\n",
       "       'Bières de Chimay S.A.', 'Big Woods Brewing Co.',\n",
       "       'Brasserie Artisanale De Rullés SPRL',\n",
       "       'Brasserie Des Gabariers (L&L Cognac SA)',\n",
       "       'Brasserie Dieu Du Ciel', 'Brasseurs De Montréal',\n",
       "       'Brauerei Früh Am Dom', 'Brauerei Gebrüder Maisel GmbH & Co.',\n",
       "       'Brauerei Ladenburger GmbH', 'Brouwerij Bockor N.V.',\n",
       "       'Brouwerij Drie Fonteinen', 'Brouwerij Roman N.V.',\n",
       "       'Brouwerij Straffe Hendrik / Huisbrouwerij De Halve Maan',\n",
       "       'Browerij Nacional Balashi', 'Central Waters Brewing Company',\n",
       "       'Cervecera Mexicana S.A. De C.V.',\n",
       "       'Cerveceria Nacional Dominicana', 'Cerveceria Vegana, S.A.',\n",
       "       'Coop Ale Works', 'Coors Brewing Company', 'Dogfish Head Brewery',\n",
       "       'Dust Bowl Brewing Company', 'Einstök Ölgerð',\n",
       "       'Empire Brewing Company', 'Fat Heads Brewery & Saloon',\n",
       "       \"Finch's Beer Co.\", 'Flensburger Brauerei GmbH Und Co. KG',\n",
       "       'Foothills Brewing Company', 'Four Peaks Brewing Company',\n",
       "       'French Broad Brewing Co.',\n",
       "       'Friesisches Brauhaus zu Jever GmbH & Co KG',\n",
       "       'George Bateman and Son Ltd. / Batemans Brewery',\n",
       "       'Great Lakes Brewing Company',\n",
       "       'Hair of the Dog Brewing Company / Brewery and Tasting Room',\n",
       "       'Harpoon Brewery', 'Hops & Grain', 'Jester King Craft Brewery',\n",
       "       'Lagerheads Smokehouse & Brewing Co.', 'Lonerider Brewing',\n",
       "       'Lord Nelson Brewery Hotel', 'Mahrs-Bräu', \"Marston's PLC\",\n",
       "       'Matt Brewing Company', 'Mike Hess Brewing',\n",
       "       'Narrow Gauge Brewing Co.', 'Nebraska Brewing Company',\n",
       "       'New Belgium Brewing', 'Oettinger Brauerei',\n",
       "       \"O'so Brewing Company\", \"Otter Creek Brewing / Wolaver's\",\n",
       "       'Paulaner Brauerei GmbH & Co. KG',\n",
       "       'Picobrouwerij Alvinne / Den Bierzolder',\n",
       "       'Piney River Brewing Company', 'Pivovar Herold B&#345;eznice A.s.',\n",
       "       'Pivovarský D&#367;m', 'Privatbrauerei Eichbaum GmbH & Co. KG',\n",
       "       'Rinkuškiai Alaus Darykloje', 'Sawdust City Brewing Company',\n",
       "       'Scuttlebutt Brewing Company', 'Shipyard Brewing Co.',\n",
       "       'St. George Brewing Company, The', 'Stone Brewing Co.', 'Sudwerk',\n",
       "       'Swamp Head Brewery & Tasting Room', 'the Nils Oscar Company',\n",
       "       'Three Floyds Brewing Co. & Brewpub', 'Traquair House Brewery Lld',\n",
       "       'U Fleků Pivovaru a Restauraci', 'UAB Švyturys',\n",
       "       'Uerige Obergärige Hausbrauerei GmbH / Zum Uerige',\n",
       "       'UNICER União Cervejeira S.A.', 'Upslope Brewing Company',\n",
       "       'Urban Chestnut Brewing Company', 'Victory Brewing Company',\n",
       "       'Vofas-Engelman', 'Water Street Brewing & Ale House',\n",
       "       'Yuengling Brewery '], dtype=object)"
      ]
     },
     "metadata": {},
     "output_type": "display_data"
    }
   ],
   "source": [
    "for col in rawdata.columns:\n",
    "    display(rawdata[col].unique())\n"
   ]
  },
  {
   "cell_type": "markdown",
   "metadata": {},
   "source": [
    "No relevant here to make value counts and unique = each line unique\n",
    "    \n",
    "    "
   ]
  },
  {
   "cell_type": "code",
   "execution_count": 4,
   "metadata": {},
   "outputs": [
    {
     "data": {
      "text/html": [
       "<div>\n",
       "<style scoped>\n",
       "    .dataframe tbody tr th:only-of-type {\n",
       "        vertical-align: middle;\n",
       "    }\n",
       "\n",
       "    .dataframe tbody tr th {\n",
       "        vertical-align: top;\n",
       "    }\n",
       "\n",
       "    .dataframe thead th {\n",
       "        text-align: right;\n",
       "    }\n",
       "</style>\n",
       "<table border=\"1\" class=\"dataframe\">\n",
       "  <thead>\n",
       "    <tr style=\"text-align: right;\">\n",
       "      <th></th>\n",
       "      <th>Brewery</th>\n",
       "      <th>matches</th>\n",
       "    </tr>\n",
       "  </thead>\n",
       "  <tbody>\n",
       "    <tr>\n",
       "      <th>0</th>\n",
       "      <td>Žatecký Pivovar</td>\n",
       "      <td>Žatecký Pivovar</td>\n",
       "    </tr>\n",
       "    <tr>\n",
       "      <th>1</th>\n",
       "      <td>Abbey Brewing Co. (Monastery Of Christ In The ...</td>\n",
       "      <td>Abbey Brewing Co.</td>\n",
       "    </tr>\n",
       "    <tr>\n",
       "      <th>2</th>\n",
       "      <td>Aktienbrauerei Kaufbeuren AG</td>\n",
       "      <td>Aktien-Brauerei Kaufbeuren AG</td>\n",
       "    </tr>\n",
       "    <tr>\n",
       "      <th>3</th>\n",
       "      <td>Alltech's Lexington Brewing and Distilling Co.</td>\n",
       "      <td>Alltech’s Lexington Brewing and Distilling Co.</td>\n",
       "    </tr>\n",
       "    <tr>\n",
       "      <th>4</th>\n",
       "      <td>Asia Pacific Breweries Limited</td>\n",
       "      <td>Asia Pacific Breweries Ltd.</td>\n",
       "    </tr>\n",
       "    <tr>\n",
       "      <th>5</th>\n",
       "      <td>Atwater Brewery</td>\n",
       "      <td>Atwater Block Brewery</td>\n",
       "    </tr>\n",
       "    <tr>\n",
       "      <th>6</th>\n",
       "      <td>Augustiner-Bräu</td>\n",
       "      <td>Augustiner Bräu Kloster Mülln OHG</td>\n",
       "    </tr>\n",
       "    <tr>\n",
       "      <th>7</th>\n",
       "      <td>Bayern Brewing, Inc. / Edelweiss Bistro</td>\n",
       "      <td>Bayern Brewing, Inc.</td>\n",
       "    </tr>\n",
       "    <tr>\n",
       "      <th>8</th>\n",
       "      <td>Boston Beer Works - Canal Street</td>\n",
       "      <td>Beer Works</td>\n",
       "    </tr>\n",
       "    <tr>\n",
       "      <th>9</th>\n",
       "      <td>BFM (Brasserie des Franches-Montagnes)</td>\n",
       "      <td>BFM Brasserie Des Franches-Montagnes</td>\n",
       "    </tr>\n",
       "  </tbody>\n",
       "</table>\n",
       "</div>"
      ],
      "text/plain": [
       "                                             Brewery  \\\n",
       "0                                    Žatecký Pivovar   \n",
       "1  Abbey Brewing Co. (Monastery Of Christ In The ...   \n",
       "2                       Aktienbrauerei Kaufbeuren AG   \n",
       "3     Alltech's Lexington Brewing and Distilling Co.   \n",
       "4                     Asia Pacific Breweries Limited   \n",
       "5                                    Atwater Brewery   \n",
       "6                                    Augustiner-Bräu   \n",
       "7            Bayern Brewing, Inc. / Edelweiss Bistro   \n",
       "8                   Boston Beer Works - Canal Street   \n",
       "9             BFM (Brasserie des Franches-Montagnes)   \n",
       "\n",
       "                                          matches  \n",
       "0                                Žatecký Pivovar  \n",
       "1                               Abbey Brewing Co.  \n",
       "2                   Aktien-Brauerei Kaufbeuren AG  \n",
       "3  Alltech’s Lexington Brewing and Distilling Co.  \n",
       "4                     Asia Pacific Breweries Ltd.  \n",
       "5                           Atwater Block Brewery  \n",
       "6               Augustiner Bräu Kloster Mülln OHG  \n",
       "7                            Bayern Brewing, Inc.  \n",
       "8                                      Beer Works  \n",
       "9            BFM Brasserie Des Franches-Montagnes  "
      ]
     },
     "execution_count": 4,
     "metadata": {},
     "output_type": "execute_result"
    }
   ],
   "source": [
    "rawdata.head(10)"
   ]
  },
  {
   "cell_type": "code",
   "execution_count": 7,
   "metadata": {},
   "outputs": [],
   "source": [
    "FIGSIZE = (6,7)    # Taille figure en pouce - utlise dans tous les graphes\n",
    "FIGSIZE2 = (3,4)"
   ]
  },
  {
   "cell_type": "code",
   "execution_count": 8,
   "metadata": {},
   "outputs": [
    {
     "data": {
      "image/png": "[encoded data removed]",
      "text/plain": [
       "<Figure size 600x700 with 1 Axes>"
      ]
     },
     "metadata": {},
     "output_type": "display_data"
    }
   ],
   "source": [
    "#   Repérer s'il y a des NULL et leur distribution / localisation\n",
    "#   ---------------------------------------------------------------\n",
    "plt.figure(figsize=FIGSIZE)         # Fonction figure > declarer figure dans laquelle je vais travailler\n",
    "plt.title('Heatmap Null Value')     #   Titre de la figure\n",
    "sns.heatmap(rawdata.isna(),cbar=False)      # Utilise graphique heatmap de seaborn dans matlpotlib / \n",
    "                                            #   isna nous dnne un masque boleen\n",
    "plt.show()"
   ]
  },
  {
   "cell_type": "markdown",
   "metadata": {},
   "source": [
    "No NULL values"
   ]
  },
  {
   "cell_type": "code",
   "execution_count": null,
   "metadata": {},
   "outputs": [
    {
     "name": "stdout",
     "output_type": "stream",
     "text": [
      "<class 'pandas.core.frame.DataFrame'>\n",
      "RangeIndex: 87 entries, 0 to 86\n",
      "Data columns (total 2 columns):\n",
      " #   Column   Non-Null Count  Dtype \n",
      "---  ------   --------------  ----- \n",
      " 0   Brewery  87 non-null     object\n",
      " 1   matches  87 non-null     object\n",
      "dtypes: object(2)\n",
      "memory usage: 1.5+ KB\n"
     ]
    }
   ],
   "source": [
    "rawdata.info()\n"
   ]
  },
  {
   "cell_type": "code",
   "execution_count": null,
   "metadata": {},
   "outputs": [],
   "source": [
    "#   Graphes sur variables catégorielles > distribution      >> Hist plot / count plot pas de sens\n",
    "#   -----------------------------------------------------"
   ]
  }
 ],
 "metadata": {
  "kernelspec": {
   "display_name": "Python 3",
   "language": "python",
   "name": "python3"
  },
  "language_info": {
   "codemirror_mode": {
    "name": "ipython",
    "version": 3
   },
   "file_extension": ".py",
   "mimetype": "text/x-python",
   "name": "python",
   "nbconvert_exporter": "python",
   "pygments_lexer": "ipython3",
   "version": "3.9.13"
  }
 },
 "nbformat": 4,
 "nbformat_minor": 2
}
