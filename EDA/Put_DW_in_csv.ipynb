{
 "cells": [
  {
   "cell_type": "code",
   "execution_count": null,
   "metadata": {},
   "outputs": [],
   "source": [
    "#   Put_DW_in_csv\n",
    "#   -------------------\n",
    "\n",
    "    #   Objectif : récuperer les tables du DW et mettre en csv pour faire PowerBI sur les CSV\n",
    "    #   Raison : PowerBI corrompu pour accéder les tables du SQL server\n"
   ]
  },
  {
   "cell_type": "code",
   "execution_count": 1,
   "metadata": {},
   "outputs": [],
   "source": [
    "import pandas as pd \n",
    "import numpy as np \n",
    "\n",
    "import requests as rq\n",
    "from sqlalchemy import create_engine,text,Float,Integer,String"
   ]
  },
  {
   "cell_type": "markdown",
   "metadata": {},
   "source": [
    "{dbms}://{server_name}/master?trusted_connection=yes&driver={driver}'"
   ]
  },
  {
   "cell_type": "code",
   "execution_count": 2,
   "metadata": {},
   "outputs": [],
   "source": [
    "dbms = 'mssql+pyodbc'\n",
    "server_name = r'E6K-VDI1614\\TFTIC'\n",
    "driver = 'ODBC+driver+17+for+SQL+Server'\n",
    "\n",
    "create_db_string = f'{dbms}://{server_name}/master?trusted_connection=yes&driver={driver}'\n"
   ]
  },
  {
   "cell_type": "code",
   "execution_count": 3,
   "metadata": {},
   "outputs": [],
   "source": [
    "create_db_engine = create_engine(create_db_string,isolation_level='AUTOCOMMIT')"
   ]
  },
  {
   "cell_type": "code",
   "execution_count": null,
   "metadata": {},
   "outputs": [],
   "source": [
    "#  Databse already create - not applicable here\n",
    "\n",
    "'''create_query = \"\"\"\n",
    "IF NOT EXISTS (SELECT [name] FROM sys.databases\n",
    "\t\t\t\tWHERE [name] = 'meteo')\n",
    "                     BEGIN\n",
    "                        CREATE DATABASE meteo\n",
    "                     END\n",
    "\n",
    "\"\"\""
   ]
  },
  {
   "cell_type": "code",
   "execution_count": null,
   "metadata": {},
   "outputs": [
    {
     "ename": "TypeError",
     "evalue": "execute() missing 1 required positional argument: 'statement'",
     "output_type": "error",
     "traceback": [
      "\u001b[1;31m---------------------------------------------------------------------------\u001b[0m",
      "\u001b[1;31mTypeError\u001b[0m                                 Traceback (most recent call last)",
      "Cell \u001b[1;32mIn[4], line 2\u001b[0m\n\u001b[0;32m      1\u001b[0m create_db_engine\u001b[38;5;241m.\u001b[39mconnect()\n\u001b[1;32m----> 2\u001b[0m \u001b[43mcreate_db_engine\u001b[49m\u001b[38;5;241;43m.\u001b[39;49m\u001b[43mconnect\u001b[49m\u001b[43m(\u001b[49m\u001b[43m)\u001b[49m\u001b[38;5;241;43m.\u001b[39;49m\u001b[43mexecute\u001b[49m\u001b[43m(\u001b[49m\u001b[43m)\u001b[49m\n\u001b[0;32m      3\u001b[0m create_db_engine\u001b[38;5;241m.\u001b[39mdispose()\n",
      "\u001b[1;31mTypeError\u001b[0m: execute() missing 1 required positional argument: 'statement'"
     ]
    }
   ],
   "source": [
    "create_db_engine.connect()\n",
    "create_db_engine.connect().execute(text())\n",
    "create_db_engine.dispose()"
   ]
  },
  {
   "cell_type": "code",
   "execution_count": 29,
   "metadata": {},
   "outputs": [],
   "source": [
    "with create_db_engine.connect() as conn :\n",
    "    conn.execute(text(create_query))\n",
    "\n"
   ]
  },
  {
   "cell_type": "code",
   "execution_count": 5,
   "metadata": {},
   "outputs": [],
   "source": [
    "dbms = 'mssql+pyodbc'\n",
    "server_name = r'E6K-VDI1614\\TFTIC'\n",
    "driver = 'ODBC+driver+17+for+SQL+Server'\n",
    "database = 'BeerProfileReviewDW'\n",
    "\n",
    "insert_string = f'{dbms}://{server_name}/{database}?trusted_connection=yes&driver={driver}'"
   ]
  },
  {
   "cell_type": "code",
   "execution_count": 6,
   "metadata": {},
   "outputs": [],
   "source": [
    "insert_engine = create_engine(insert_string)"
   ]
  },
  {
   "cell_type": "code",
   "execution_count": null,
   "metadata": {},
   "outputs": [],
   "source": [
    "# typedict = {'Time': String(50),\n",
    "   #         'Temperature_2m':Float(),\n",
    "   #          'lat':Float(),\n",
    "   #         'lon':Float()}"
   ]
  },
  {
   "cell_type": "code",
   "execution_count": 7,
   "metadata": {},
   "outputs": [
    {
     "data": {
      "text/html": [
       "<div>\n",
       "<style scoped>\n",
       "    .dataframe tbody tr th:only-of-type {\n",
       "        vertical-align: middle;\n",
       "    }\n",
       "\n",
       "    .dataframe tbody tr th {\n",
       "        vertical-align: top;\n",
       "    }\n",
       "\n",
       "    .dataframe thead th {\n",
       "        text-align: right;\n",
       "    }\n",
       "</style>\n",
       "<table border=\"1\" class=\"dataframe\">\n",
       "  <thead>\n",
       "    <tr style=\"text-align: right;\">\n",
       "      <th></th>\n",
       "      <th>SK_Beer</th>\n",
       "      <th>Beer_Id</th>\n",
       "      <th>Beer_Name</th>\n",
       "      <th>Brewery_Name</th>\n",
       "      <th>ABV</th>\n",
       "      <th>Active</th>\n",
       "      <th>Valid_From</th>\n",
       "    </tr>\n",
       "  </thead>\n",
       "  <tbody>\n",
       "    <tr>\n",
       "      <th>0</th>\n",
       "      <td>12932</td>\n",
       "      <td>48215</td>\n",
       "      <td>Black Horse Black Beer</td>\n",
       "      <td>Vecchio Birraio</td>\n",
       "      <td>6</td>\n",
       "      <td>False</td>\n",
       "      <td>2025-04-22 14:37:45.000</td>\n",
       "    </tr>\n",
       "    <tr>\n",
       "      <th>1</th>\n",
       "      <td>12933</td>\n",
       "      <td>12386</td>\n",
       "      <td>Caldera OBF 15</td>\n",
       "      <td>Caldera Brewing Company</td>\n",
       "      <td>6</td>\n",
       "      <td>True</td>\n",
       "      <td>2025-04-22 14:37:45.000</td>\n",
       "    </tr>\n",
       "    <tr>\n",
       "      <th>2</th>\n",
       "      <td>12934</td>\n",
       "      <td>64883</td>\n",
       "      <td>Cauldron DIPA</td>\n",
       "      <td>Caldera Brewing Company</td>\n",
       "      <td>8</td>\n",
       "      <td>True</td>\n",
       "      <td>2025-04-22 14:37:45.000</td>\n",
       "    </tr>\n",
       "    <tr>\n",
       "      <th>3</th>\n",
       "      <td>12935</td>\n",
       "      <td>47969</td>\n",
       "      <td>Sausa Pils</td>\n",
       "      <td>Vecchio Birraio</td>\n",
       "      <td>5</td>\n",
       "      <td>True</td>\n",
       "      <td>2025-04-22 14:37:45.000</td>\n",
       "    </tr>\n",
       "    <tr>\n",
       "      <th>4</th>\n",
       "      <td>12936</td>\n",
       "      <td>58046</td>\n",
       "      <td>Rauch Ür Bock</td>\n",
       "      <td>Caldera Brewing Company</td>\n",
       "      <td>7</td>\n",
       "      <td>True</td>\n",
       "      <td>2025-04-22 14:37:45.000</td>\n",
       "    </tr>\n",
       "    <tr>\n",
       "      <th>5</th>\n",
       "      <td>12937</td>\n",
       "      <td>52159</td>\n",
       "      <td>Caldera Ginger Beer</td>\n",
       "      <td>Caldera Brewing Company</td>\n",
       "      <td>5</td>\n",
       "      <td>True</td>\n",
       "      <td>2025-04-22 14:37:45.000</td>\n",
       "    </tr>\n",
       "    <tr>\n",
       "      <th>6</th>\n",
       "      <td>12938</td>\n",
       "      <td>436</td>\n",
       "      <td>Amstel Light</td>\n",
       "      <td>Amstel Brouwerij B. V.</td>\n",
       "      <td>4</td>\n",
       "      <td>True</td>\n",
       "      <td>2025-04-22 14:37:45.000</td>\n",
       "    </tr>\n",
       "    <tr>\n",
       "      <th>7</th>\n",
       "      <td>12939</td>\n",
       "      <td>10789</td>\n",
       "      <td>Caldera Oatmeal Stout</td>\n",
       "      <td>Caldera Brewing Company</td>\n",
       "      <td>7</td>\n",
       "      <td>True</td>\n",
       "      <td>2025-04-22 14:37:45.000</td>\n",
       "    </tr>\n",
       "    <tr>\n",
       "      <th>8</th>\n",
       "      <td>12940</td>\n",
       "      <td>47986</td>\n",
       "      <td>Sausa Weizen</td>\n",
       "      <td>Vecchio Birraio</td>\n",
       "      <td>5</td>\n",
       "      <td>True</td>\n",
       "      <td>2025-04-22 14:37:45.000</td>\n",
       "    </tr>\n",
       "    <tr>\n",
       "      <th>9</th>\n",
       "      <td>12941</td>\n",
       "      <td>48213</td>\n",
       "      <td>Red Moon</td>\n",
       "      <td>Vecchio Birraio</td>\n",
       "      <td>6</td>\n",
       "      <td>True</td>\n",
       "      <td>2025-04-22 14:37:45.000</td>\n",
       "    </tr>\n",
       "    <tr>\n",
       "      <th>10</th>\n",
       "      <td>12942</td>\n",
       "      <td>48215</td>\n",
       "      <td>Black Horse Black Beer</td>\n",
       "      <td>Vecchio Birraio</td>\n",
       "      <td>5</td>\n",
       "      <td>False</td>\n",
       "      <td>2025-04-24 09:24:34.143</td>\n",
       "    </tr>\n",
       "  </tbody>\n",
       "</table>\n",
       "</div>"
      ],
      "text/plain": [
       "    SK_Beer  Beer_Id               Beer_Name             Brewery_Name  ABV  \\\n",
       "0     12932    48215  Black Horse Black Beer          Vecchio Birraio    6   \n",
       "1     12933    12386          Caldera OBF 15  Caldera Brewing Company    6   \n",
       "2     12934    64883           Cauldron DIPA  Caldera Brewing Company    8   \n",
       "3     12935    47969              Sausa Pils          Vecchio Birraio    5   \n",
       "4     12936    58046           Rauch Ür Bock  Caldera Brewing Company    7   \n",
       "5     12937    52159     Caldera Ginger Beer  Caldera Brewing Company    5   \n",
       "6     12938      436            Amstel Light   Amstel Brouwerij B. V.    4   \n",
       "7     12939    10789   Caldera Oatmeal Stout  Caldera Brewing Company    7   \n",
       "8     12940    47986            Sausa Weizen          Vecchio Birraio    5   \n",
       "9     12941    48213                Red Moon          Vecchio Birraio    6   \n",
       "10    12942    48215  Black Horse Black Beer          Vecchio Birraio    5   \n",
       "\n",
       "    Active              Valid_From  \n",
       "0    False 2025-04-22 14:37:45.000  \n",
       "1     True 2025-04-22 14:37:45.000  \n",
       "2     True 2025-04-22 14:37:45.000  \n",
       "3     True 2025-04-22 14:37:45.000  \n",
       "4     True 2025-04-22 14:37:45.000  \n",
       "5     True 2025-04-22 14:37:45.000  \n",
       "6     True 2025-04-22 14:37:45.000  \n",
       "7     True 2025-04-22 14:37:45.000  \n",
       "8     True 2025-04-22 14:37:45.000  \n",
       "9     True 2025-04-22 14:37:45.000  \n",
       "10   False 2025-04-24 09:24:34.143  "
      ]
     },
     "execution_count": 7,
     "metadata": {},
     "output_type": "execute_result"
    }
   ],
   "source": [
    "test = pd.read_sql(sql=\"SELECT * FROM Dim_Beers\", con=insert_engine)\n",
    "test"
   ]
  },
  {
   "cell_type": "code",
   "execution_count": null,
   "metadata": {},
   "outputs": [
    {
     "data": {
      "text/plain": [
       "168"
      ]
     },
     "execution_count": 40,
     "metadata": {},
     "output_type": "execute_result"
    }
   ],
   "source": [
    "# df.to_sql(name=\"temperature\",con=insert_engine,if_exists='replace',index=False,dtype=typedict)"
   ]
  },
  {
   "cell_type": "code",
   "execution_count": null,
   "metadata": {},
   "outputs": [],
   "source": [
    "staging_retrieval_query = \"SELECT * FROM Beer_Evaluation_Staging\"\n",
    "DW_Dim_Beers_retrieval_query = \"SELECT * FROM Dim_Beers\"\n",
    "DW_Dim_Style_retrieval_query = \"SELECT * FROM Dim_Style\"\n",
    "DW_Dim_Reviewer_retrieval_query = \"SELECT * FROM Dim_Reviewer\"\n",
    "DW_DimDate_retrieval_query = \"SELECT * FROM DimDate\"\n",
    "DW_BeerEval_Facts_retrieval_query  = \"SELECT * FROM BeerEval_Facts\"\n",
    "\n"
   ]
  },
  {
   "cell_type": "code",
   "execution_count": null,
   "metadata": {},
   "outputs": [],
   "source": [
    "retrieved_data_staging = pd.read_sql(staging_retrieval_query,con=insert_engine)\n",
    "retrieved_data_staging"
   ]
  },
  {
   "cell_type": "code",
   "execution_count": null,
   "metadata": {},
   "outputs": [],
   "source": [
    "retrieved_data_Dim_Beers = pd.read_sql(DW_Dim_Beers_retrieval_query,con=insert_engine)\n",
    "retrieved_data_Dim_Beers"
   ]
  },
  {
   "cell_type": "code",
   "execution_count": null,
   "metadata": {},
   "outputs": [],
   "source": [
    "retrieved_data_Dim_Style = pd.read_sql(DW_Dim_Style_retrieval_query,con=insert_engine)\n",
    "retrieved_data_Dim_Style"
   ]
  },
  {
   "cell_type": "code",
   "execution_count": null,
   "metadata": {},
   "outputs": [],
   "source": [
    "retrieved_data_Dim_Reviewer = pd.read_sql(DW_Dim_Reviewer_retrieval_query,con=insert_engine)\n",
    "retrieved_data_Dim_Reviewer"
   ]
  },
  {
   "cell_type": "code",
   "execution_count": null,
   "metadata": {},
   "outputs": [],
   "source": [
    "retrieved_data_BeerEvalFacts = pd.read_sql(DW_BeerEval_Facts_retrieval_query,con=insert_engine)\n",
    "retrieved_data_BeerEvalFacts"
   ]
  },
  {
   "cell_type": "markdown",
   "metadata": {},
   "source": [
    "Exercice : Utiliser les deux URL au début du jupyter notebook pour récuperer des données concernant les communes de Bruxelles, ensuite utilisé ces données afin de récuperer la météo des dites communes. Enfin envoyer vos données dans un SQL server. \n",
    "\n",
    "Au final nous voulons 2 tables en SQL server sous forme de modèle dimensionnel. \n",
    "\n",
    "Bonus : Si vous en avez le temps, connectez vous sur votre modele avec Power BI pour voir si celui ci fonctionne correctement."
   ]
  }
 ],
 "metadata": {
  "kernelspec": {
   "display_name": "Python 3",
   "language": "python",
   "name": "python3"
  },
  "language_info": {
   "codemirror_mode": {
    "name": "ipython",
    "version": 3
   },
   "file_extension": ".py",
   "mimetype": "text/x-python",
   "name": "python",
   "nbconvert_exporter": "python",
   "pygments_lexer": "ipython3",
   "version": "3.9.13"
  }
 },
 "nbformat": 4,
 "nbformat_minor": 2
}
