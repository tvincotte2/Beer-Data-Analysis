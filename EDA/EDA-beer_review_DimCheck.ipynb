{
 "cells": [
  {
   "cell_type": "code",
   "execution_count": null,
   "metadata": {},
   "outputs": [],
   "source": [
    "# %pip install pandas openpyxl \n",
    "#   use of excel writer"
   ]
  },
  {
   "cell_type": "code",
   "execution_count": 1,
   "metadata": {},
   "outputs": [],
   "source": [
    "import numpy as np\n",
    "import pandas as pd\n",
    "\n",
    "import matplotlib.pyplot as plt\n",
    "import seaborn as sns\n",
    "\n",
    "import pingouin as pg"
   ]
  },
  {
   "cell_type": "code",
   "execution_count": null,
   "metadata": {},
   "outputs": [],
   "source": [
    "#   File Beer Profiles and ratings.csv\n",
    "#   --------------------------------------\n",
    "\n",
    "# This file contains 1 Tabs  with Beer dateset detailled profile and ratings info\n",
    "    #   Objective of this script - check relations between dimension concepts\n"
   ]
  },
  {
   "cell_type": "code",
   "execution_count": 2,
   "metadata": {},
   "outputs": [],
   "source": [
    "# Fetch raw data\n",
    "\n",
    "rawdata = pd.read_csv(r'C:\\Users\\t.vincotte\\Documents\\CODE\\TFE\\EoF - Work\\Beer_Profile\\Source_Files\\beer_reviews.csv') \n",
    " "
   ]
  },
  {
   "cell_type": "code",
   "execution_count": 3,
   "metadata": {},
   "outputs": [
    {
     "data": {
      "text/plain": [
       "brewery_id            1586614\n",
       "brewery_name          1586599\n",
       "review_time           1586614\n",
       "review_overall        1586614\n",
       "review_aroma          1586614\n",
       "review_appearance     1586614\n",
       "review_profilename    1586266\n",
       "beer_style            1586614\n",
       "review_palate         1586614\n",
       "review_taste          1586614\n",
       "beer_name             1586614\n",
       "beer_abv              1518829\n",
       "beer_beerid           1586614\n",
       "dtype: int64"
      ]
     },
     "execution_count": 3,
     "metadata": {},
     "output_type": "execute_result"
    }
   ],
   "source": [
    "rawdata.count()"
   ]
  },
  {
   "cell_type": "code",
   "execution_count": 4,
   "metadata": {},
   "outputs": [
    {
     "name": "stdout",
     "output_type": "stream",
     "text": [
      "<class 'pandas.core.frame.DataFrame'>\n",
      "RangeIndex: 1586614 entries, 0 to 1586613\n",
      "Data columns (total 13 columns):\n",
      " #   Column              Non-Null Count    Dtype  \n",
      "---  ------              --------------    -----  \n",
      " 0   brewery_id          1586614 non-null  int64  \n",
      " 1   brewery_name        1586599 non-null  object \n",
      " 2   review_time         1586614 non-null  int64  \n",
      " 3   review_overall      1586614 non-null  float64\n",
      " 4   review_aroma        1586614 non-null  float64\n",
      " 5   review_appearance   1586614 non-null  float64\n",
      " 6   review_profilename  1586266 non-null  object \n",
      " 7   beer_style          1586614 non-null  object \n",
      " 8   review_palate       1586614 non-null  float64\n",
      " 9   review_taste        1586614 non-null  float64\n",
      " 10  beer_name           1586614 non-null  object \n",
      " 11  beer_abv            1518829 non-null  float64\n",
      " 12  beer_beerid         1586614 non-null  int64  \n",
      "dtypes: float64(6), int64(3), object(4)\n",
      "memory usage: 157.4+ MB\n"
     ]
    },
    {
     "data": {
      "text/html": [
       "<div>\n",
       "<style scoped>\n",
       "    .dataframe tbody tr th:only-of-type {\n",
       "        vertical-align: middle;\n",
       "    }\n",
       "\n",
       "    .dataframe tbody tr th {\n",
       "        vertical-align: top;\n",
       "    }\n",
       "\n",
       "    .dataframe thead th {\n",
       "        text-align: right;\n",
       "    }\n",
       "</style>\n",
       "<table border=\"1\" class=\"dataframe\">\n",
       "  <thead>\n",
       "    <tr style=\"text-align: right;\">\n",
       "      <th></th>\n",
       "    </tr>\n",
       "  </thead>\n",
       "  <tbody>\n",
       "  </tbody>\n",
       "</table>\n",
       "</div>"
      ],
      "text/plain": [
       "Empty DataFrame\n",
       "Columns: []\n",
       "Index: []"
      ]
     },
     "execution_count": 4,
     "metadata": {},
     "output_type": "execute_result"
    }
   ],
   "source": [
    "#rawdata.info()\n",
    "str = rawdata.info()\n",
    "structure = pd.DataFrame(str)  #  ne met pas en dataframe\n",
    "structure\n",
    "# structure.to_excel(\"Beer_datasets_structures\",sheet_name='Beer data set details') # n ecrit pas le rawdata.info dans le fichier"
   ]
  },
  {
   "cell_type": "code",
   "execution_count": 5,
   "metadata": {},
   "outputs": [
    {
     "data": {
      "text/html": [
       "<div>\n",
       "<style scoped>\n",
       "    .dataframe tbody tr th:only-of-type {\n",
       "        vertical-align: middle;\n",
       "    }\n",
       "\n",
       "    .dataframe tbody tr th {\n",
       "        vertical-align: top;\n",
       "    }\n",
       "\n",
       "    .dataframe thead th {\n",
       "        text-align: right;\n",
       "    }\n",
       "</style>\n",
       "<table border=\"1\" class=\"dataframe\">\n",
       "  <thead>\n",
       "    <tr style=\"text-align: right;\">\n",
       "      <th></th>\n",
       "      <th>brewery_id</th>\n",
       "      <th>brewery_name</th>\n",
       "      <th>review_time</th>\n",
       "      <th>review_overall</th>\n",
       "      <th>review_aroma</th>\n",
       "      <th>review_appearance</th>\n",
       "      <th>review_profilename</th>\n",
       "      <th>beer_style</th>\n",
       "      <th>review_palate</th>\n",
       "      <th>review_taste</th>\n",
       "      <th>beer_name</th>\n",
       "      <th>beer_abv</th>\n",
       "      <th>beer_beerid</th>\n",
       "    </tr>\n",
       "  </thead>\n",
       "  <tbody>\n",
       "    <tr>\n",
       "      <th>0</th>\n",
       "      <td>10325</td>\n",
       "      <td>Vecchio Birraio</td>\n",
       "      <td>1234817823</td>\n",
       "      <td>1.5</td>\n",
       "      <td>2.0</td>\n",
       "      <td>2.5</td>\n",
       "      <td>stcules</td>\n",
       "      <td>Hefeweizen</td>\n",
       "      <td>1.5</td>\n",
       "      <td>1.5</td>\n",
       "      <td>Sausa Weizen</td>\n",
       "      <td>5.0</td>\n",
       "      <td>47986</td>\n",
       "    </tr>\n",
       "  </tbody>\n",
       "</table>\n",
       "</div>"
      ],
      "text/plain": [
       "   brewery_id     brewery_name  review_time  review_overall  review_aroma  \\\n",
       "0       10325  Vecchio Birraio   1234817823             1.5           2.0   \n",
       "\n",
       "   review_appearance review_profilename  beer_style  review_palate  \\\n",
       "0                2.5            stcules  Hefeweizen            1.5   \n",
       "\n",
       "   review_taste     beer_name  beer_abv  beer_beerid  \n",
       "0           1.5  Sausa Weizen       5.0        47986  "
      ]
     },
     "execution_count": 5,
     "metadata": {},
     "output_type": "execute_result"
    }
   ],
   "source": [
    "rawdata.head(1)"
   ]
  },
  {
   "cell_type": "code",
   "execution_count": null,
   "metadata": {},
   "outputs": [],
   "source": [
    "#   Only show columns we want to see - methods not used here\n",
    "#   ----------------------------------------------------------\n",
    "        # Select the ones you want\n",
    "            #   df1 = df[['a','d']]\n"
   ]
  },
  {
   "cell_type": "markdown",
   "metadata": {},
   "source": [
    "Beer dimension check on whole set >> too large >> grouping needed\n",
    "-------------------------------------------------------------------\n",
    "\n",
    " Sheet is too large! Your sheet size is: 1586614, 6 Max sheet size is: 1048576, 16384 >>> other approach to be taken\n",
    " For dimension verification, grouping on potebtial dimensions is enough\n",
    "\n",
    " Grouping documentation :    https://www.geeksforgeeks.org/python-pandas-dataframe-groupby/\n",
    "\n",
    "            import pandas as pd\n",
    "            df = pd.read_csv(\"https://media.geeksforgeeks.org/wp-content/uploads/nba.csv\")\n",
    "\n",
    "            grouping = df.groupby(['Team', 'Position'])\n",
    "            print(grouping.first())"
   ]
  },
  {
   "cell_type": "code",
   "execution_count": null,
   "metadata": {},
   "outputs": [],
   "source": [
    "#   Beer dimension check - Grouping counts() evaluation\n",
    "#   ----------------------------------------------------------\n",
    "\n",
    "    #   https://www.geeksforgeeks.org/python-pandas-dataframe-groupby/\n",
    "\n",
    "df_beer_count = rawdata[['beer_beerid','beer_name','brewery_id','brewery_name','beer_style','review_profilename']].groupby(['beer_name']).count()\n",
    "display(df_beer_count)\n",
    "\n",
    "df_style_count = rawdata[['beer_style','beer_name']].groupby(['beer_style']).count()\n",
    "display(df_style_count)\n",
    "\n",
    "df_brewery_count = rawdata[['brewery_id','brewery_name']].groupby(['brewery_name','brewery_id']).count()\n",
    "display(df_brewery_count)\n",
    "\n",
    "df_reviewer_count = rawdata[['review_profilename','beer_name']].groupby(['review_profilename']).count()\n",
    "display(df_reviewer_count)\n",
    "\n",
    "df_dimensions_without_time_count = rawdata[['beer_beerid','beer_name','brewery_id','brewery_name','beer_style','review_profilename']].groupby(['beer_name','brewery_name','beer_style','review_profilename']).count()\n",
    "display(df_dimensions_without_time_count)\n",
    "\n",
    "df_dimensions_without_reviewers = rawdata[['beer_name','brewery_id','brewery_name','beer_style']].groupby(['beer_name','brewery_name','beer_style']).count()\n",
    "display(df_dimensions_without_reviewers)\n",
    "\n"
   ]
  },
  {
   "cell_type": "markdown",
   "metadata": {},
   "source": [
    "Outcome of grouping evaluations\n",
    "--------------------------------\n",
    ">   66055 beers\n",
    ">   105 beer styles\n",
    ">   5838 breweries\n",
    ">   33387 reviewers\n",
    ">   Combination of unique beer, reviewer : 1571324 rows vs a total of 1586614 entries - business, a few professionals, many occasional\n",
    ">   For dimension check, grouping all dimensions except reviewers is fine >> df_dimensions_without_reviewers 65743 combinations\n",
    "\n",
    "df_dimensions_without_reviewers will be used to generate the sheets diemnsion verification"
   ]
  },
  {
   "cell_type": "code",
   "execution_count": null,
   "metadata": {},
   "outputs": [],
   "source": [
    "#   Reorder DataFrame columns : https://www.geeksforgeeks.org/change-the-order-of-a-pandas-dataframe-columns-in-python/ \n",
    "#       df_reordered = df.loc[:, ['Maths Score', 'Name', 'Sr.no']]\n",
    "\n",
    "        #   REORDER COLUMNS TO REVISIT\n",
    "                #   df1_by_beer = df1\n",
    "                #   df1_by_beer\n",
    "\n",
    "        # had issue to reorder a dataframe other one"
   ]
  },
  {
   "cell_type": "code",
   "execution_count": 64,
   "metadata": {},
   "outputs": [],
   "source": [
    "#   Beer dimension check - rough listing - create spreadsheet \n",
    "#   ----------------------------------------------------------\n",
    "\n",
    "    #   https://www.geeksforgeeks.org/exporting-a-pandas-dataframe-to-an-excel-file/\n",
    "    #   https://stackoverflow.com/questions/42370977/how-to-save-a-new-sheet-in-an-existing-excel-file-using-pandas\n",
    "    #   https://saturncloud.io/blog/how-to-add-a-worksheet-to-an-existing-excel-file-with-pandas/ \n",
    "\n",
    "\n",
    "df1_source = rawdata[['beer_name','brewery_id','brewery_name','beer_style','beer_abv']].drop_duplicates()\n",
    "df1 = df1_source\n",
    "\n",
    "df1.to_excel(\"EDA_DimCheck_BeerReview.xlsx\",sheet_name='rough_listing')\n",
    "\n",
    "        #   Note : (Re)creates spreadsheet as running - below - use method to append sheet"
   ]
  },
  {
   "cell_type": "code",
   "execution_count": 65,
   "metadata": {},
   "outputs": [],
   "source": [
    "#   Beer dimension check - List by style\n",
    "#   ---------------------------------------\n",
    "    #   Use method to append sheet to existing excel file\n",
    "\n",
    "df1_by_style = df1[['beer_style','beer_name','brewery_name','beer_abv']].sort_values(by=['beer_name']).sort_values(by=['beer_style'])\n",
    "with pd.ExcelWriter('EDA_DimCheck_BeerReview.xlsx', engine='openpyxl', mode='a') as writer:\n",
    "    # Write the new DataFrame to a new sheet\n",
    "    df1_by_style.to_excel(writer, sheet_name='list_by_style', index=True)\n",
    "\n",
    "# df1_by_style.to_excel(\"EDA_DimCheck_BeerDataset.xlsx\",sheet_name='list_by_style')\n"
   ]
  },
  {
   "cell_type": "code",
   "execution_count": 66,
   "metadata": {},
   "outputs": [],
   "source": [
    "#   Beer dimension check - List by brewery\n",
    "#   ---------------------------------------\n",
    "   #   Use method to append sheet to existing excel file\n",
    "\n",
    "df1_by_brewery = df1[['brewery_name','beer_name','beer_style','beer_abv']].sort_values(by=['beer_name']).sort_values(by=['brewery_name']) # type: ignore\n",
    "with pd.ExcelWriter('EDA_DimCheck_BeerReview.xlsx', engine='openpyxl', mode='a') as writer:\n",
    "    # Write the new DataFrame to a new sheet\n",
    "    df1_by_brewery.to_excel(writer, sheet_name='list_by_brewery', index=True)\n"
   ]
  },
  {
   "cell_type": "code",
   "execution_count": 67,
   "metadata": {},
   "outputs": [],
   "source": [
    "#   Beer dimension check - List by style_brewery\n",
    "#   ---------------------------------------------\n",
    "   #   Use method to append sheet to existing excel file\n",
    "\n",
    "df1_by_brewery_style = df1[['beer_style','brewery_name','beer_name','beer_abv']].sort_values(by=['beer_name']).sort_values(by=['brewery_name']).sort_values(by=['beer_style'])\n",
    "with pd.ExcelWriter('EDA_DimCheck_BeerReview.xlsx', engine='openpyxl', mode='a') as writer:\n",
    "    # Write the new DataFrame to a new sheet\n",
    "    df1_by_brewery_style.to_excel(writer, sheet_name='list_by_brewery_style', index=True)\n"
   ]
  },
  {
   "cell_type": "code",
   "execution_count": 68,
   "metadata": {},
   "outputs": [],
   "source": [
    "#   Beer dimension check - List by brewery_style\n",
    "#   ---------------------------------------------\n",
    "   #   Use method to append sheet to existing excel file\n",
    "\n",
    "df1_by_brewery_style = df1[['brewery_name','beer_style','beer_name','beer_abv']].sort_values(by=['beer_name']).sort_values(by=['beer_style']).sort_values(by=['brewery_name'])\n",
    "with pd.ExcelWriter('EDA_DimCheck_BeerReview.xlsx', engine='openpyxl', mode='a') as writer:\n",
    "    # Write the new DataFrame to a new sheet\n",
    "    df1_by_brewery_style.to_excel(writer, sheet_name='list_by_style_brewery', index=True)\n"
   ]
  },
  {
   "cell_type": "code",
   "execution_count": 71,
   "metadata": {},
   "outputs": [
    {
     "name": "stdout",
     "output_type": "stream",
     "text": [
      "<class 'pandas.core.frame.DataFrame'>\n",
      "RangeIndex: 1586614 entries, 0 to 1586613\n",
      "Data columns (total 13 columns):\n",
      " #   Column              Non-Null Count    Dtype  \n",
      "---  ------              --------------    -----  \n",
      " 0   brewery_id          1586614 non-null  int64  \n",
      " 1   brewery_name        1586599 non-null  object \n",
      " 2   review_time         1586614 non-null  int64  \n",
      " 3   review_overall      1586614 non-null  float64\n",
      " 4   review_aroma        1586614 non-null  float64\n",
      " 5   review_appearance   1586614 non-null  float64\n",
      " 6   review_profilename  1586266 non-null  object \n",
      " 7   beer_style          1586614 non-null  object \n",
      " 8   review_palate       1586614 non-null  float64\n",
      " 9   review_taste        1586614 non-null  float64\n",
      " 10  beer_name           1586614 non-null  object \n",
      " 11  beer_abv            1518829 non-null  float64\n",
      " 12  beer_beerid         1586614 non-null  int64  \n",
      "dtypes: float64(6), int64(3), object(4)\n",
      "memory usage: 157.4+ MB\n"
     ]
    }
   ],
   "source": [
    "rawdata.info()"
   ]
  },
  {
   "cell_type": "code",
   "execution_count": null,
   "metadata": {},
   "outputs": [],
   "source": [
    "#   COUNT DIFFERENTS\n",
    "#   ------------------------------\n",
    "\n",
    "# Top : 1.586.614 total row counts\n",
    "#   Rows where count are different - might be NULL\n",
    "\n"
   ]
  },
  {
   "cell_type": "code",
   "execution_count": null,
   "metadata": {},
   "outputs": [],
   "source": [
    "#     Check if dupplicate beer evaluations\n",
    "#   -------------------------------------\n",
    "#       #   https://sparkbyexamples.com/pandas/pandas-filter-rows-by-conditions/#:~:text=You%20can%20filter%20the%20rows,()%2C%20or%20apply()%20function.\n",
    "        #   \n",
    "\n",
    "df_eval_before_count = rawdata[['beer_beerid','beer_abv','beer_name','brewery_id','brewery_name','beer_style','review_profilename','review_time']].count()\n",
    "#display(df_eval_before_count)\n",
    "\n",
    "df_duplicated = rawdata[['beer_beerid','beer_abv','beer_name','brewery_id','brewery_name','beer_style','review_profilename','review_time']].duplicated()\n",
    "duplicated_sorted = pd.DataFrame(df_duplicated).sort_values(by=0,ascending=False)\n",
    "        # duplicates = duplicated_sorted.loc[duplicated_sorted[:]].isin(True)\n",
    "display(duplicates)\n",
    "\n",
    "\n",
    "df_dropped_duplicates = rawdata[['beer_beerid','beer_abv','beer_name','brewery_id','brewery_name','beer_style','review_profilename','review_time']].drop_duplicates()\n",
    "\n",
    "\n",
    "df_eval_after_count = df_dropped_duplicates.count()\n",
    "#display(df_eval_after_count)\n"
   ]
  },
  {
   "cell_type": "markdown",
   "metadata": {},
   "source": [
    "Sounds quirte cmlose -- NEED TO UNDERSTAND THE SMALL DIFFERENCES IN THE COUNT  ??\n",
    "WAY TO SHOW DUPPLICATE LINES ??\n",
    ">>> FEW DUPLICATE ROWS .... Might be some NULLs\n",
    "\n",
    ">>> Make an heatmap schema - search rows with NULL and treat"
   ]
  },
  {
   "cell_type": "code",
   "execution_count": 14,
   "metadata": {},
   "outputs": [
    {
     "data": {
      "text/plain": [
       "<bound method DataFrame.drop_duplicates of                                           Name\n",
       "0                                        Amber\n",
       "1                                   Double Bag\n",
       "2                               Long Trail Ale\n",
       "3                                 Doppelsticke\n",
       "4                 Sleigh'r Dark Doüble Alt Ale\n",
       "...                                        ...\n",
       "3192                           Winter Shredder\n",
       "3193                        The First Snow Ale\n",
       "3194                       Red Nose Winter Ale\n",
       "3195                      Fish Tale Winterfish\n",
       "3196  Frosted Frog Christmas Ale - Barrel-Aged\n",
       "\n",
       "[3197 rows x 1 columns]>"
      ]
     },
     "execution_count": 14,
     "metadata": {},
     "output_type": "execute_result"
    }
   ],
   "source": [
    "#     Check if dupplicate beer names\n",
    "#   -------------------------------------\n",
    "#   \n",
    " \n",
    "df2x = df1[['Name']].drop_duplicates\n",
    "#df2 = pd.DataFrame[df2x]\n",
    "df2x\n",
    "\n",
    "#df2_duplicate_beer_check = df2.count()\n",
    "#df2_duplicate_beer_check "
   ]
  },
  {
   "cell_type": "code",
   "execution_count": 94,
   "metadata": {},
   "outputs": [
    {
     "data": {
      "text/plain": [
       "brewery_id              int64\n",
       "brewery_name           object\n",
       "review_time             int64\n",
       "review_overall        float64\n",
       "review_aroma          float64\n",
       "review_appearance     float64\n",
       "review_profilename     object\n",
       "beer_style             object\n",
       "review_palate         float64\n",
       "review_taste          float64\n",
       "beer_name              object\n",
       "beer_abv              float64\n",
       "beer_beerid             int64\n",
       "dtype: object"
      ]
     },
     "execution_count": 94,
     "metadata": {},
     "output_type": "execute_result"
    }
   ],
   "source": [
    "rawdata.dtypes"
   ]
  },
  {
   "cell_type": "markdown",
   "metadata": {},
   "source": [
    "Afre drop dupplicate still amount of rows >> no duplicate in beer name"
   ]
  },
  {
   "cell_type": "markdown",
   "metadata": {},
   "source": [
    "3197 records"
   ]
  }
 ],
 "metadata": {
  "kernelspec": {
   "display_name": "Python 3",
   "language": "python",
   "name": "python3"
  },
  "language_info": {
   "codemirror_mode": {
    "name": "ipython",
    "version": 3
   },
   "file_extension": ".py",
   "mimetype": "text/x-python",
   "name": "python",
   "nbconvert_exporter": "python",
   "pygments_lexer": "ipython3",
   "version": "3.9.13"
  }
 },
 "nbformat": 4,
 "nbformat_minor": 2
}
