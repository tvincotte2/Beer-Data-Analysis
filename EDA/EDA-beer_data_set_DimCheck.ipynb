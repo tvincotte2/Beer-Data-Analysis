{
 "cells": [
  {
   "cell_type": "code",
   "execution_count": null,
   "metadata": {},
   "outputs": [],
   "source": [
    "# %pip install pandas openpyxl \n",
    "#   use of excel writer"
   ]
  },
  {
   "cell_type": "code",
   "execution_count": 1,
   "metadata": {},
   "outputs": [],
   "source": [
    "import numpy as np\n",
    "import pandas as pd\n",
    "\n",
    "import matplotlib.pyplot as plt\n",
    "import seaborn as sns\n",
    "\n",
    "import pingouin as pg"
   ]
  },
  {
   "cell_type": "code",
   "execution_count": null,
   "metadata": {},
   "outputs": [],
   "source": [
    "#   File Beer Profiles and ratings.csv\n",
    "#   --------------------------------------\n",
    "\n",
    "# This file contains 1 Tabs  with Beer dateset detailled profile and ratings info\n",
    "    #   Objective of this script - check relations between dimension concepts\n"
   ]
  },
  {
   "cell_type": "code",
   "execution_count": 2,
   "metadata": {},
   "outputs": [],
   "source": [
    "# Fetch raw data\n",
    "\n",
    "rawdata = pd.read_csv(r'C:\\Users\\t.vincotte\\Documents\\CODE\\TFE\\EoF - Work\\Beer_Profile\\Source_Files\\beer_data_set.csv') \n",
    " "
   ]
  },
  {
   "cell_type": "code",
   "execution_count": null,
   "metadata": {},
   "outputs": [],
   "source": [
    "rawdata.count()"
   ]
  },
  {
   "cell_type": "code",
   "execution_count": 4,
   "metadata": {},
   "outputs": [
    {
     "name": "stdout",
     "output_type": "stream",
     "text": [
      "<class 'pandas.core.frame.DataFrame'>\n",
      "RangeIndex: 5558 entries, 0 to 5557\n",
      "Data columns (total 21 columns):\n",
      " #   Column       Non-Null Count  Dtype  \n",
      "---  ------       --------------  -----  \n",
      " 0   Name         5556 non-null   object \n",
      " 1   key          5558 non-null   int64  \n",
      " 2   Style        5558 non-null   object \n",
      " 3   Style Key    5558 non-null   int64  \n",
      " 4   Brewery      5558 non-null   object \n",
      " 5   Description  5558 non-null   object \n",
      " 6   ABV          5558 non-null   float64\n",
      " 7   Ave Rating   5558 non-null   float64\n",
      " 8   Min IBU      5558 non-null   int64  \n",
      " 9   Max IBU      5558 non-null   int64  \n",
      " 10  Astringency  5558 non-null   int64  \n",
      " 11  Body         5558 non-null   int64  \n",
      " 12  Alcohol      5558 non-null   int64  \n",
      " 13  Bitter       5558 non-null   int64  \n",
      " 14  Sweet        5558 non-null   int64  \n",
      " 15  Sour         5558 non-null   int64  \n",
      " 16  Salty        5558 non-null   int64  \n",
      " 17  Fruits       5558 non-null   int64  \n",
      " 18  Hoppy        5558 non-null   int64  \n",
      " 19  Spices       5558 non-null   int64  \n",
      " 20  Malty        5558 non-null   int64  \n",
      "dtypes: float64(2), int64(15), object(4)\n",
      "memory usage: 912.0+ KB\n"
     ]
    },
    {
     "data": {
      "text/html": [
       "<div>\n",
       "<style scoped>\n",
       "    .dataframe tbody tr th:only-of-type {\n",
       "        vertical-align: middle;\n",
       "    }\n",
       "\n",
       "    .dataframe tbody tr th {\n",
       "        vertical-align: top;\n",
       "    }\n",
       "\n",
       "    .dataframe thead th {\n",
       "        text-align: right;\n",
       "    }\n",
       "</style>\n",
       "<table border=\"1\" class=\"dataframe\">\n",
       "  <thead>\n",
       "    <tr style=\"text-align: right;\">\n",
       "      <th></th>\n",
       "    </tr>\n",
       "  </thead>\n",
       "  <tbody>\n",
       "  </tbody>\n",
       "</table>\n",
       "</div>"
      ],
      "text/plain": [
       "Empty DataFrame\n",
       "Columns: []\n",
       "Index: []"
      ]
     },
     "execution_count": 4,
     "metadata": {},
     "output_type": "execute_result"
    }
   ],
   "source": [
    "#rawdata.info()\n",
    "str = rawdata.info()\n",
    "structure = pd.DataFrame(str)  #  ne met pas en dataframe\n",
    "structure\n",
    "# structure.to_excel(\"Beer_datasets_structures\",sheet_name='Beer data set details') # n ecrit pas le rawdata.info dans le fichier"
   ]
  },
  {
   "cell_type": "code",
   "execution_count": 5,
   "metadata": {},
   "outputs": [
    {
     "data": {
      "text/html": [
       "<div>\n",
       "<style scoped>\n",
       "    .dataframe tbody tr th:only-of-type {\n",
       "        vertical-align: middle;\n",
       "    }\n",
       "\n",
       "    .dataframe tbody tr th {\n",
       "        vertical-align: top;\n",
       "    }\n",
       "\n",
       "    .dataframe thead th {\n",
       "        text-align: right;\n",
       "    }\n",
       "</style>\n",
       "<table border=\"1\" class=\"dataframe\">\n",
       "  <thead>\n",
       "    <tr style=\"text-align: right;\">\n",
       "      <th></th>\n",
       "      <th>Name</th>\n",
       "      <th>key</th>\n",
       "      <th>Style</th>\n",
       "      <th>Style Key</th>\n",
       "      <th>Brewery</th>\n",
       "      <th>Description</th>\n",
       "      <th>ABV</th>\n",
       "      <th>Ave Rating</th>\n",
       "      <th>Min IBU</th>\n",
       "      <th>Max IBU</th>\n",
       "      <th>...</th>\n",
       "      <th>Body</th>\n",
       "      <th>Alcohol</th>\n",
       "      <th>Bitter</th>\n",
       "      <th>Sweet</th>\n",
       "      <th>Sour</th>\n",
       "      <th>Salty</th>\n",
       "      <th>Fruits</th>\n",
       "      <th>Hoppy</th>\n",
       "      <th>Spices</th>\n",
       "      <th>Malty</th>\n",
       "    </tr>\n",
       "  </thead>\n",
       "  <tbody>\n",
       "    <tr>\n",
       "      <th>0</th>\n",
       "      <td>Amber</td>\n",
       "      <td>251</td>\n",
       "      <td>Altbier</td>\n",
       "      <td>8</td>\n",
       "      <td>Alaskan Brewing Co.</td>\n",
       "      <td>Notes:Richly malty and long on the palate, wit...</td>\n",
       "      <td>5.3</td>\n",
       "      <td>3.65</td>\n",
       "      <td>25</td>\n",
       "      <td>50</td>\n",
       "      <td>...</td>\n",
       "      <td>32</td>\n",
       "      <td>9</td>\n",
       "      <td>47</td>\n",
       "      <td>74</td>\n",
       "      <td>33</td>\n",
       "      <td>0</td>\n",
       "      <td>33</td>\n",
       "      <td>57</td>\n",
       "      <td>8</td>\n",
       "      <td>111</td>\n",
       "    </tr>\n",
       "  </tbody>\n",
       "</table>\n",
       "<p>1 rows × 21 columns</p>\n",
       "</div>"
      ],
      "text/plain": [
       "    Name  key    Style  Style Key              Brewery  \\\n",
       "0  Amber  251  Altbier          8  Alaskan Brewing Co.   \n",
       "\n",
       "                                         Description  ABV  Ave Rating  \\\n",
       "0  Notes:Richly malty and long on the palate, wit...  5.3        3.65   \n",
       "\n",
       "   Min IBU  Max IBU  ...  Body  Alcohol  Bitter  Sweet  Sour  Salty  Fruits  \\\n",
       "0       25       50  ...    32        9      47     74    33      0      33   \n",
       "\n",
       "   Hoppy  Spices  Malty  \n",
       "0     57       8    111  \n",
       "\n",
       "[1 rows x 21 columns]"
      ]
     },
     "execution_count": 5,
     "metadata": {},
     "output_type": "execute_result"
    }
   ],
   "source": [
    "rawdata.head(1)"
   ]
  },
  {
   "cell_type": "code",
   "execution_count": null,
   "metadata": {},
   "outputs": [],
   "source": [
    "#   Only show columns we want to see - methods not used here\n",
    "#   ----------------------------------------------------------\n",
    "\n",
    "        # Using DataFrame.drop\n",
    "            #   df.drop(df.columns[[1, 2]], axis=1, inplace=True)\n",
    "\n",
    "        # Select the ones you want\n",
    "            #   df1 = df[['a','d']]\n"
   ]
  },
  {
   "cell_type": "code",
   "execution_count": 17,
   "metadata": {},
   "outputs": [],
   "source": [
    "#   Beer dimension check - rough listing - create spreadsheet \n",
    "#   ----------------------------------------------------------\n",
    "\n",
    "    #   https://www.geeksforgeeks.org/exporting-a-pandas-dataframe-to-an-excel-file/\n",
    "    #   https://stackoverflow.com/questions/42370977/how-to-save-a-new-sheet-in-an-existing-excel-file-using-pandas\n",
    "    #   https://saturncloud.io/blog/how-to-add-a-worksheet-to-an-existing-excel-file-with-pandas/ \n",
    "\n",
    "df1 = rawdata.drop(['Style Key', 'Description'], axis=1)\n",
    "df1.to_excel(\"EDA_DimCheck_BeerDataset.xlsx\",sheet_name='rough_listing')\n",
    "\n",
    "        #   Note : (Re)creates spreadsheet as running - below - use method to append sheet\n"
   ]
  },
  {
   "cell_type": "markdown",
   "metadata": {},
   "source": [
    "Alternate method (stack overflow) - Add sheet to existing file\n",
    "-------------------------------------\n",
    "import pandas as pd\n",
    "import numpy as np\n",
    "\n",
    "path = r\"C:\\Users\\fedel\\Desktop\\excelData\\PhD_data.xlsx\"\n",
    "\n",
    "x3 = np.random.randn(100, 2)\n",
    "df3 = pd.DataFrame(x3)\n",
    "\n",
    "x4 = np.random.randn(100, 2)\n",
    "df4 = pd.DataFrame(x4)\n",
    "\n",
    "writer = pd.ExcelWriter(path, engine = 'xlsxwriter')\n",
    "df3.to_excel(writer, sheet_name = 'x3')\n",
    "df4.to_excel(writer, sheet_name = 'x4')\n",
    "writer.save()\n",
    "writer.close()\n",
    "\n",
    "----\n",
    "\n",
    "import pandas as pd\n",
    "\n",
    "data = {'EmployeeID': [101, 102, 103],\n",
    "        'EmployeeName': ['Alice', 'Bob', 'Charlie'],\n",
    "        'Salary': [60000, 70000, 80000]}\n",
    "\n",
    "df_new = pd.DataFrame(data)\n",
    "\n",
    "with pd.ExcelWriter('existing_file.xlsx', engine='openpyxl', mode='a') as writer:\n",
    "    # Write the new DataFrame to a new sheet\n",
    "    df_new.to_excel(writer, sheet_name='New Sheet', index=False)"
   ]
  },
  {
   "cell_type": "code",
   "execution_count": 18,
   "metadata": {},
   "outputs": [],
   "source": [
    "#   Beer dimension check - List by style\n",
    "#   ---------------------------------------\n",
    "    #   Use method to append sheet to existing excel file\n",
    "\n",
    "df1_by_style = df1[['Style','Name','Brewery','ABV']].sort_values(by=['Name']).sort_values(by=['Style'])\n",
    "with pd.ExcelWriter('EDA_DimCheck_BeerDataset.xlsx', engine='openpyxl', mode='a') as writer:\n",
    "    # Write the new DataFrame to a new sheet\n",
    "    df1_by_style.to_excel(writer, sheet_name='list_by_style', index=True)\n",
    "\n",
    "# df1_by_style.to_excel(\"EDA_DimCheck_BeerDataset.xlsx\",sheet_name='list_by_style')\n"
   ]
  },
  {
   "cell_type": "code",
   "execution_count": null,
   "metadata": {},
   "outputs": [],
   "source": [
    "#   Beer dimension check - List by brewery\n",
    "#   ---------------------------------------\n",
    "   #   Use method to append sheet to existing excel file\n",
    "\n",
    "df1_by_brewery = df1[['Brewery','Name','Style','ABV']].sort_values(by=['Name']).sort_values(by=['Brewery'])\n",
    "with pd.ExcelWriter('EDA_DimCheck_BeerDataset.xlsx', engine='openpyxl', mode='a') as writer:\n",
    "    # Write the new DataFrame to a new sheet\n",
    "    df1_by_brewery.to_excel(writer, sheet_name='list_by_brewery', index=True)\n"
   ]
  },
  {
   "cell_type": "code",
   "execution_count": 23,
   "metadata": {},
   "outputs": [],
   "source": [
    "#   Beer dimension check - List by style_brewery\n",
    "#   ---------------------------------------------\n",
    "   #   Use method to append sheet to existing excel file\n",
    "\n",
    "df1_by_brewery_style = df1[['Style','Brewery','Name','ABV']].sort_values(by=['Name']).sort_values(by=['Brewery']).sort_values(by=['Style'])\n",
    "with pd.ExcelWriter('EDA_DimCheck_BeerDataset.xlsx', engine='openpyxl', mode='a') as writer:\n",
    "    # Write the new DataFrame to a new sheet\n",
    "    df1_by_brewery_style.to_excel(writer, sheet_name='list_by_brewery_style', index=True)\n"
   ]
  },
  {
   "cell_type": "code",
   "execution_count": 24,
   "metadata": {},
   "outputs": [],
   "source": [
    "#   Beer dimension check - List by brewery_style\n",
    "#   ---------------------------------------------\n",
    "   #   Use method to append sheet to existing excel file\n",
    "\n",
    "df1_by_brewery_style = df1[['Brewery','Style','Name','ABV']].sort_values(by=['Name']).sort_values(by=['Style']).sort_values(by=['Brewery'])\n",
    "with pd.ExcelWriter('EDA_DimCheck_BeerDataset.xlsx', engine='openpyxl', mode='a') as writer:\n",
    "    # Write the new DataFrame to a new sheet\n",
    "    df1_by_brewery_style.to_excel(writer, sheet_name='list_by_style_brewery', index=True)\n"
   ]
  },
  {
   "cell_type": "code",
   "execution_count": 35,
   "metadata": {},
   "outputs": [
    {
     "data": {
      "text/plain": [
       "Name    5556\n",
       "ABV     5558\n",
       "dtype: int64"
      ]
     },
     "execution_count": 35,
     "metadata": {},
     "output_type": "execute_result"
    }
   ],
   "source": [
    "#     Check if dupplicate beer names\n",
    "#   -------------------------------------\n",
    "#   \n",
    "df1_duplicate_beer_check = df1[['Name','ABV']].count()\n",
    "df1_duplicate_beer_check \n"
   ]
  },
  {
   "cell_type": "code",
   "execution_count": 44,
   "metadata": {},
   "outputs": [
    {
     "data": {
      "text/plain": [
       "<bound method DataFrame.drop_duplicates of                                              Name\n",
       "0                                           Amber\n",
       "1                                      Double Bag\n",
       "2                                  Long Trail Ale\n",
       "3                                    Doppelsticke\n",
       "4                                          Scurry\n",
       "...                                           ...\n",
       "5553                          Red Nose Winter Ale\n",
       "5554  Our Special Ale 2019 (Anchor Christmas Ale)\n",
       "5555                         Fish Tale Winterfish\n",
       "5556    He'Brew Hanukkah, Chanukah: Pass The Beer\n",
       "5557     Frosted Frog Christmas Ale - Barrel-Aged\n",
       "\n",
       "[5558 rows x 1 columns]>"
      ]
     },
     "execution_count": 44,
     "metadata": {},
     "output_type": "execute_result"
    }
   ],
   "source": [
    "#     Check if dupplicate beer names\n",
    "#   -------------------------------------\n",
    "#   \n",
    " \n",
    "df2x = df1[['Name']].drop_duplicates\n",
    "#df2 = pd.DataFrame[df2x]\n",
    "df2x\n",
    "\n",
    "#df2_duplicate_beer_check = df2.count()\n",
    "#df2_duplicate_beer_check "
   ]
  },
  {
   "cell_type": "markdown",
   "metadata": {},
   "source": [
    "Afre drop dupplicate still amount of rows >> no duplicate in beer name"
   ]
  },
  {
   "cell_type": "markdown",
   "metadata": {},
   "source": [
    "Index count -5556 - see 2 rows where name starts with # while we have others containing # in the name\n",
    "    row 82 and row 1250\n",
    "Checked - (see here below) - name are well # 100 and #9 - no lost info due to special char #\n",
    "\n",
    "??? Any specialchar affecting the count value ?? \n",
    "??  Need to clean name for further treatment ??"
   ]
  },
  {
   "cell_type": "code",
   "execution_count": 29,
   "metadata": {},
   "outputs": [
    {
     "data": {
      "text/html": [
       "<div>\n",
       "<style scoped>\n",
       "    .dataframe tbody tr th:only-of-type {\n",
       "        vertical-align: middle;\n",
       "    }\n",
       "\n",
       "    .dataframe tbody tr th {\n",
       "        vertical-align: top;\n",
       "    }\n",
       "\n",
       "    .dataframe thead th {\n",
       "        text-align: right;\n",
       "    }\n",
       "</style>\n",
       "<table border=\"1\" class=\"dataframe\">\n",
       "  <thead>\n",
       "    <tr style=\"text-align: right;\">\n",
       "      <th></th>\n",
       "      <th>Name</th>\n",
       "      <th>key</th>\n",
       "      <th>Style</th>\n",
       "      <th>Brewery</th>\n",
       "      <th>ABV</th>\n",
       "      <th>Ave Rating</th>\n",
       "      <th>Min IBU</th>\n",
       "      <th>Max IBU</th>\n",
       "      <th>Astringency</th>\n",
       "      <th>Body</th>\n",
       "      <th>Alcohol</th>\n",
       "      <th>Bitter</th>\n",
       "      <th>Sweet</th>\n",
       "      <th>Sour</th>\n",
       "      <th>Salty</th>\n",
       "      <th>Fruits</th>\n",
       "      <th>Hoppy</th>\n",
       "      <th>Spices</th>\n",
       "      <th>Malty</th>\n",
       "    </tr>\n",
       "  </thead>\n",
       "  <tbody>\n",
       "    <tr>\n",
       "      <th>1250</th>\n",
       "      <td>#9</td>\n",
       "      <td>3301</td>\n",
       "      <td>Fruit and Field Beer</td>\n",
       "      <td>Magic Hat Brewing Company</td>\n",
       "      <td>5.1</td>\n",
       "      <td>3.42</td>\n",
       "      <td>5</td>\n",
       "      <td>45</td>\n",
       "      <td>22</td>\n",
       "      <td>23</td>\n",
       "      <td>1</td>\n",
       "      <td>31</td>\n",
       "      <td>73</td>\n",
       "      <td>38</td>\n",
       "      <td>0</td>\n",
       "      <td>74</td>\n",
       "      <td>50</td>\n",
       "      <td>2</td>\n",
       "      <td>28</td>\n",
       "    </tr>\n",
       "  </tbody>\n",
       "</table>\n",
       "</div>"
      ],
      "text/plain": [
       "     Name   key                 Style                    Brewery  ABV  \\\n",
       "1250   #9  3301  Fruit and Field Beer  Magic Hat Brewing Company  5.1   \n",
       "\n",
       "      Ave Rating  Min IBU  Max IBU  Astringency  Body  Alcohol  Bitter  Sweet  \\\n",
       "1250        3.42        5       45           22    23        1      31     73   \n",
       "\n",
       "      Sour  Salty  Fruits  Hoppy  Spices  Malty  \n",
       "1250    38      0      74     50       2     28  "
      ]
     },
     "execution_count": 29,
     "metadata": {},
     "output_type": "execute_result"
    }
   ],
   "source": [
    "df1.loc[[82]]\n",
    "df1.loc[[1250]]"
   ]
  },
  {
   "cell_type": "markdown",
   "metadata": {},
   "source": [
    "5558 records"
   ]
  }
 ],
 "metadata": {
  "kernelspec": {
   "display_name": "Python 3",
   "language": "python",
   "name": "python3"
  },
  "language_info": {
   "codemirror_mode": {
    "name": "ipython",
    "version": 3
   },
   "file_extension": ".py",
   "mimetype": "text/x-python",
   "name": "python",
   "nbconvert_exporter": "python",
   "pygments_lexer": "ipython3",
   "version": "3.9.13"
  }
 },
 "nbformat": 4,
 "nbformat_minor": 2
}
